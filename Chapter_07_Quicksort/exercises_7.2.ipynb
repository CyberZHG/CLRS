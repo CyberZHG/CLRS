{
 "cells": [
  {
   "cell_type": "markdown",
   "metadata": {},
   "source": [
    "## 7.2 Performance of quicksort"
   ]
  },
  {
   "cell_type": "markdown",
   "metadata": {},
   "source": [
    "### 7.2-1\n",
    "\n",
    "> Use the substitution method to prove that the recurrence $T(n) = T(n - 1) + \\Theta(n)$has the solution $T(n)=\\Theta(n^2)$, as claimed at the beginning of Section 7.2."
   ]
  },
  {
   "cell_type": "markdown",
   "metadata": {},
   "source": [
    "Suppose $T(n) \\le cn^2-an$,\n",
    "\n",
    "$$\n",
    "\\begin{array}{rlll}\n",
    "T(n) &\\le& c(n-1)^2-a(n-1) + dn \\\\\n",
    "&=&  cn^2 + (d - 2c)n + c & \\displaystyle (d < 2c, n \\ge \\frac{c}{2c-d}) \\\\\n",
    "&\\le& cn^2 \\\\\n",
    "\\end{array}\n",
    "$$"
   ]
  },
  {
   "cell_type": "markdown",
   "metadata": {},
   "source": [
    "### 7.2-2\n",
    "\n",
    "> What is the running time of QUICKSORT when all elements of array A have the\n",
    "same value?"
   ]
  },
  {
   "cell_type": "markdown",
   "metadata": {},
   "source": [
    "$T(n)=T(n-1)+\\Theta(n)$\n",
    "\n",
    "$T(n)=\\Theta(n^2)$"
   ]
  },
  {
   "cell_type": "markdown",
   "metadata": {},
   "source": [
    "### 7.2-3\n",
    "\n",
    "> Show that the running time of QUICKSORT is $\\Theta(n^2)$ when the array $A$ contains distinct elements and is sorted in decreasing order."
   ]
  },
  {
   "cell_type": "markdown",
   "metadata": {},
   "source": [
    "$T(n)=T(n-1)+\\Theta(n)$\n",
    "\n",
    "$T(n)=\\Theta(n^2)$"
   ]
  },
  {
   "cell_type": "markdown",
   "metadata": {},
   "source": [
    "### 7.2-4\n",
    "\n",
    "> Banks often record transactions on an account in order of the times of the transactions, but many people like to receive their bank statements with checks listed in order by check number. People usually write checks in order by check number, and merchants usually cash them with reasonable dispatch. The problem of converting time-of-transaction ordering to check-number ordering is therefore the problem of sorting almost-sorted input. Argue that the procedure INSERTION-SORT would tend to beat the procedure QUICKSORT on this problem."
   ]
  },
  {
   "cell_type": "markdown",
   "metadata": {},
   "source": [
    "INSERTION-SORT is $\\Omega(n)$ while $QUCIKSORT$ is $\\Omega(n^2)$"
   ]
  },
  {
   "cell_type": "markdown",
   "metadata": {},
   "source": [
    "### 7.2-5\n",
    "\n",
    "> Suppose that the splits at every level of quicksort are in the proportion $1-\\alpha$ to $\\alpha$, where $0 < \\alpha \\le 1/2$ is a constant. Show that the minimum depth of a leaf in the recursion tree is approximately $-\\lg n / \\lg \\alpha$ and the maximum depth is approximately $-\\lg n/\\lg(1-\\alpha)$. (Don't worry about integer round-off.)"
   ]
  },
  {
   "cell_type": "markdown",
   "metadata": {},
   "source": [
    "Let $x$ be the minimum depth,\n",
    "\n",
    "$$\n",
    "\\begin{array}{rll}\n",
    "n\\alpha^x &\\le& 1 \\\\\n",
    "\\alpha^x &\\le& n^{-1} \\\\\n",
    "x &\\ge& \\log_\\alpha{n^{-1}} \\\\\n",
    "x &\\ge& -\\lg n / \\lg \\alpha \\\\\n",
    "\\end{array}\n",
    "$$\n",
    "\n",
    "Let $y$ be the maximum depth,\n",
    "\n",
    "$$\n",
    "\\begin{array}{rll}\n",
    "n(1-\\alpha)^y &\\le& 1 \\\\\n",
    "(1-\\alpha)^y &\\le& n^{-1} \\\\\n",
    "y &\\ge& \\log_{(1-\\alpha)}{n^{-1}} \\\\\n",
    "y &\\ge& -\\lg n / \\lg (1-\\alpha) \\\\\n",
    "\\end{array}\n",
    "$$"
   ]
  },
  {
   "cell_type": "markdown",
   "metadata": {},
   "source": [
    "### 7.2-6 $\\star$\n",
    "\n",
    "> Argue that for any constant $0 < \\alpha \\le 1/2$, the probability is approximately $1 - 2\\alpha$, that on a random input array, PARTITION produces a split more balanced than $1-\\alpha$ to $\\alpha$."
   ]
  },
  {
   "cell_type": "markdown",
   "metadata": {},
   "source": [
    "In order to make a partition which is less balanced, the pivot should belong to either the largest $\\alpha n$ elements or the smallest $\\alpha n$ elements. Thus a better partition is approximately $\\displaystyle \\frac{n-2\\alpha n}{n} = 1 - 2\\alpha$."
   ]
  }
 ],
 "metadata": {
  "kernelspec": {
   "display_name": "Python 3",
   "language": "python",
   "name": "python3"
  },
  "language_info": {
   "codemirror_mode": {
    "name": "ipython",
    "version": 3
   },
   "file_extension": ".py",
   "mimetype": "text/x-python",
   "name": "python",
   "nbconvert_exporter": "python",
   "pygments_lexer": "ipython3",
   "version": "3.6.4"
  }
 },
 "nbformat": 4,
 "nbformat_minor": 2
}
