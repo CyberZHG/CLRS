{
 "cells": [
  {
   "cell_type": "markdown",
   "metadata": {},
   "source": [
    "## 5.4 Probabilistic analysis and further uses of indicator random variables"
   ]
  },
  {
   "cell_type": "markdown",
   "metadata": {},
   "source": [
    "### 5.4-1 \n",
    "\n",
    "> How many people must there be in a room before the probability that someone has the same birthday as you do is at least $1/2$? How many people must there be before the probability that at least two people have a birthday on July 4 is greater than $1/2$?"
   ]
  },
  {
   "cell_type": "markdown",
   "metadata": {},
   "source": [
    "$$\n",
    "1 - \\left ( \\frac{n - 1}{n} \\right ) ^ {m} \\ge \\frac{1}{2}\n",
    "$$\n",
    "\n",
    "$$\n",
    "m \\ge \\log_{364/365}\\frac{1}{2} = 252.6519888441586\n",
    "$$\n",
    "\n",
    "Thus there must be 253 people.\n",
    "\n",
    "$$\n",
    "1 - \\binom{m}{1}\\frac{1}{n} \\left ( \\frac{n-1}{n} \\right ) ^ {m-1} - \\left ( \\frac{n-1}{n} \\right ) ^ {m} \\ge \\frac{1}{2}\n",
    "$$\n",
    "\n",
    "There must be 613 people."
   ]
  },
  {
   "cell_type": "markdown",
   "metadata": {},
   "source": [
    "### 5.4-2\n",
    "\n",
    "> Suppose that we toss balls into $b$ bins until some bin contains two balls. Each toss is independent, and each ball is equally likely to end up in any bin. What is the expected number of ball tosses?"
   ]
  },
  {
   "cell_type": "markdown",
   "metadata": {},
   "source": [
    "Same as the birthday paradox."
   ]
  },
  {
   "cell_type": "markdown",
   "metadata": {},
   "source": [
    "### 5.4-3 $\\star$\n",
    "\n",
    "> For the analysis of the birthday paradox, is it important that the birthdays be mutually independent, or is pairwise independence sufficient? Justify your answer."
   ]
  },
  {
   "cell_type": "markdown",
   "metadata": {},
   "source": [
    "$X_{ij}$ uses the pairwise independence, thus it is sufficient for proving."
   ]
  },
  {
   "cell_type": "markdown",
   "metadata": {},
   "source": [
    "### 5.4-4 $\\star$\n",
    "\n",
    "> How many people should be invited to a party in order to make it likely that there are _three_ people with the same birthday?"
   ]
  },
  {
   "cell_type": "markdown",
   "metadata": {},
   "source": [
    "$$\n",
    "X_{ijk}=\\frac{1}{n^2}\n",
    "$$\n",
    "\n",
    "$$\n",
    "\\begin{array}{rll}\n",
    "E[X] &=& \\displaystyle E \\left [ \\sum_{i=1}^m \\sum_{j=i+1}^m \\sum_{k=j+1}^m X_{ijk} \\right ] \\\\\n",
    "&=& \\displaystyle \\sum_{i=1}^m \\sum_{j=i+1}^m \\sum_{k=j+1}^m E \\left [ X_{ijk} \\right ] \\\\\n",
    "&=& \\displaystyle \\sum_{i=1}^m \\sum_{j=i+1}^m \\sum_{k=j+1}^m \\frac{1}{n^2} \\\\\n",
    "&=& \\displaystyle \\binom{m}{3} \\frac{1}{n^2} \\\\\n",
    "&=& \\displaystyle \\frac{m \\cdot (m-1) \\cdot (m-2)}{6n^2}\n",
    "\\end{array}\n",
    "$$\n",
    "\n",
    "$$\n",
    "m \\cdot (m-1) \\cdot (m-2) \\ge 6n^2\n",
    "$$\n",
    "\n",
    "At least 94 people."
   ]
  },
  {
   "cell_type": "markdown",
   "metadata": {},
   "source": [
    "### 5.4-5 $\\star$\n",
    "\n",
    "> What is the probability that a $k$-string over a set of size $n$ forms a $k$-permutation? How does this question relate to the birthday paradox?"
   ]
  },
  {
   "cell_type": "markdown",
   "metadata": {},
   "source": [
    "Complementary to the birthday paradox.\n",
    "\n",
    "$$\n",
    "Pr = 1 \\cdot \\frac{n-1}{n} \\cdot \\frac{n-2}{n} \\cdot \\cdots \\cdot \\frac{n-k + 1}{n}\n",
    "$$"
   ]
  },
  {
   "cell_type": "markdown",
   "metadata": {},
   "source": [
    "### 5.4-6 $\\star$\n",
    "\n",
    "> Suppose that $n$ balls are tossed into $n$ bins, where each toss is independent and the ball is equally likely to end up in any bin. What is the expected number of empty bins? What is the expected number of bins with exactly one ball?"
   ]
  },
  {
   "cell_type": "markdown",
   "metadata": {},
   "source": [
    "* the expected number of empty bins\n",
    "\n",
    "$$\n",
    "E[X_i] = \\left ( 1 - \\frac{1}{n} \\right )^n \\approx \\frac{1}{e}\n",
    "$$\n",
    "\n",
    "$$\n",
    "\\begin{array}{rll}\n",
    "E[X] &=& \\displaystyle \\sum_{i=1}^n E[X_i] \\\\\n",
    "&=& \\displaystyle \\sum_{i=1}^n \\frac{1}{e} \\\\\n",
    "&=& \\displaystyle \\frac{n}{e} \\\\\n",
    "\\end{array}\n",
    "$$\n",
    "\n",
    "* the expected number of bins with exactly one ball\n",
    "\n",
    "$$\n",
    "E[X_i] = \\binom{n}{1}\\frac{1}{n}\\left ( 1 - \\frac{1}{n} \\right )^{n-1} = \\left ( 1 - \\frac{1}{n} \\right )^n\\frac{n}{n-1} \\approx \\frac{1}{e}\n",
    "$$\n",
    "\n",
    "$$\n",
    "E[X] = \\frac{n}{e}\n",
    "$$"
   ]
  },
  {
   "cell_type": "markdown",
   "metadata": {},
   "source": [
    "### 5.4-7 $\\star$\n",
    "\n",
    "> Sharpen the lower bound on streak length by showing that in $n$ flips of a fair coin, the probability is less than $1/n$ that no streak longer than $\\lg n - 2 \\lg \\lg n$ consecutive heads occurs."
   ]
  },
  {
   "cell_type": "markdown",
   "metadata": {},
   "source": [
    "$\\dots$"
   ]
  }
 ],
 "metadata": {
  "kernelspec": {
   "display_name": "Python 3",
   "language": "python",
   "name": "python3"
  },
  "language_info": {
   "codemirror_mode": {
    "name": "ipython",
    "version": 3
   },
   "file_extension": ".py",
   "mimetype": "text/x-python",
   "name": "python",
   "nbconvert_exporter": "python",
   "pygments_lexer": "ipython3",
   "version": "3.6.3"
  }
 },
 "nbformat": 4,
 "nbformat_minor": 2
}
