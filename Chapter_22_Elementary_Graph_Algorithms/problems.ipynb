{
 "cells": [
  {
   "cell_type": "markdown",
   "metadata": {},
   "source": [
    "## Problems"
   ]
  },
  {
   "cell_type": "markdown",
   "metadata": {},
   "source": [
    "### 22-1 Classifying edges by breadth-first search\n",
    "\n",
    "> A depth-first forest classifies the edges of a graph into tree, back, forward, and cross edges. A breadth-first tree can also be used to classify the edges reachable from the source of the search into the same four categories.\n",
    "\n",
    "> __*a*__. Prove that in a breadth-first search of an undirected graph, the following properties hold:\n",
    "> 1. There are no back edges and no forward edges.\n",
    "> 2. For each tree edge $(u, v)$, we have $v.d = u.d + 1$.\n",
    "> 3. For each cross edge $(u, v)$, we have $v.d = u.d$ or $v.d = u.d + 1$. \n",
    "\n",
    "> __*b*__. Prove that in a breadth-first search of a directed graph, the following properties hold:\n",
    "> 1. There are no forward edges.\n",
    "> 2. For each tree edge $(u, v)$, we have $v.d = u.d + 1$.\n",
    "> 3. For each cross edge $(u, v)$, we have $v.d \\le u.d + 1$.\n",
    "> 4. For each back edge $(u, v)$, we have $0 \\le v.d \\le u.d$."
   ]
  },
  {
   "cell_type": "markdown",
   "metadata": {},
   "source": [
    "### 22-2 Articulation points, bridges, and biconnected components\n",
    "\n",
    "> Let $G = (V, E)$ be a connected, undirected graph. An articulation point of $G$ is a vertex whose removal disconnects $G$. A bridge of $G$ is an edge whose removal disconnects $G$. A biconnected component of $G$ is a maximal set of edges such that any two edges in the set lie on a common simple cycle. Figure 22.10 illustrates these definitions. We can determine articulation points, bridges, and biconnected components using depth-first search. Let $G_\\pi = (V, E_\\pi)$ be a depth-first tree of $G$.\n",
    "\n",
    "> __*a*__. Prove that the root of $G_\\pi$ is an articulation point of $G$ if and only if it has at least two children in $G_\\pi$."
   ]
  },
  {
   "cell_type": "markdown",
   "metadata": {},
   "source": [
    "At least two children => at least two components that are not connected."
   ]
  },
  {
   "cell_type": "markdown",
   "metadata": {},
   "source": [
    "> __*b*__. Let $v$ be a nonroot vertex of $G_\\pi$. Prove that $v$ is an articulation point of $G$ if and only if $v$ has a child $s$ such that there is no back edge from $s$ or any descendant of $s$ to a proper ancestor of $v$."
   ]
  },
  {
   "cell_type": "markdown",
   "metadata": {},
   "source": [
    "Connect to ancestor => loop."
   ]
  },
  {
   "cell_type": "markdown",
   "metadata": {},
   "source": [
    "> __*c*__. Let\n",
    "> \n",
    "> $$v.low = \\min \\left \\{ \n",
    "\\begin{array}{l}\n",
    "v.d,\\\\\n",
    "w.d: (u, w) ~\\text{is a back edge for some descendant}~u~\\text{of}~v\n",
    "\\end{array}\n",
    "\\right .$$.\n",
    "\n",
    "> Show how to computer $v.low$ for all vertices $v \\in V$ in $O(E)$ time."
   ]
  },
  {
   "cell_type": "markdown",
   "metadata": {},
   "source": [
    "In DFS, for each edge, $v.low = min(v.low, w.d)$."
   ]
  },
  {
   "cell_type": "markdown",
   "metadata": {},
   "source": [
    "> __*d*__. Show how to compute all articulation points in $O(E)$ time."
   ]
  },
  {
   "cell_type": "markdown",
   "metadata": {},
   "source": [
    "(1) Root and have at least two children.\n",
    "\n",
    "(2) Nonroot $u$ and there exist an edge $(u, v) \\in E$ that $v.low >= u.d$."
   ]
  },
  {
   "cell_type": "markdown",
   "metadata": {},
   "source": [
    "> __*e*__. Prove that an edge of $G$ is a bridge if and only if it does not lie on any simple cycle of $G$."
   ]
  },
  {
   "cell_type": "markdown",
   "metadata": {},
   "source": [
    "No cycle => two components that are connected only by one edge."
   ]
  },
  {
   "cell_type": "markdown",
   "metadata": {},
   "source": [
    "> __*f*__. Show how to compute all the bridges of $G$ in $O(E)$ time."
   ]
  },
  {
   "cell_type": "markdown",
   "metadata": {},
   "source": [
    "$v.low > u.d$."
   ]
  },
  {
   "cell_type": "markdown",
   "metadata": {},
   "source": [
    "> __*g*__. Prove that the biconnected components of $G$ partition the nonbridge edges of $G$."
   ]
  },
  {
   "cell_type": "markdown",
   "metadata": {},
   "source": [
    "> __*h*__. Give an $O(E)$-time algorithm to label each edge $e$ of $G$ with a positive integer $e.bcc$ such that $e.bcc = e'.bcc$ if and only if $e$ and $e'$ are in the same biconnected component."
   ]
  },
  {
   "cell_type": "markdown",
   "metadata": {},
   "source": [
    "Delete bridges then DFS/BFS."
   ]
  },
  {
   "cell_type": "markdown",
   "metadata": {},
   "source": [
    "### 22-3 Euler tour\n",
    "\n",
    "> An Euler tour of a strongly connected, directed graph $G = (V, E)$ is a cycle that traverses each edge of $G$ exactly once, although it may visit a vertex more than once.\n",
    "\n",
    "> __*a*__. Show that $G$ has an Euler tour if and only if in-degree$(v)=$out-degree$(v)$ for each vertex $v \\in V$."
   ]
  },
  {
   "cell_type": "markdown",
   "metadata": {},
   "source": [
    "Part 1 : To prove Euler tour exists ⇒ in-degree(v)=out-degree(v)\n",
    "\n",
    "Euler tour can be decomposed into a set of edge-disjoint simple cycles, that when combined form the tour.\n",
    "First, for each sub-cycle,  since they are simple edge-disjoint cycles, each vertex v in the cycle has one edge coming into it and one edge leading out of it. Therefore, in-degree(v)=out-degree(v) for each of the cycles. \n",
    "Second, for the entire graph, since an Euler tour exists, each simple cycle must be connected together, where each cycle has an edge coming in and an edge going out. \n",
    "Therefore, for each vertex v in the graph, in-degree(v)= out-degree(v).\n",
    "\n",
    "Part 2: To prove in-degree(v)=out-degree(v) =>  Euler tour exists\n",
    "\n",
    "Start from v, and chose any outgoing edge of v, say (v, u). Since in-degree(u) = out-degree(u) we can pick some outgoing edge of u and continue visiting edges. Each time we pick an edge, we can remove it from further consideration. At each vertex other than v, at the time we visit an entering edge, there must be an outgoing edge left unvisited, since in-degree = out-degree for all vertices. The only vertex for which there may not be an unvisited outgoing edge is v—because we started the cycle by visiting one of v’s outgoing edges. Since there’s always a leaving edge we can visit for any vertex other than v, eventually the cycle must return to v, thus proving the claim."
   ]
  },
  {
   "cell_type": "markdown",
   "metadata": {},
   "source": [
    "> __*b*__. Describe an $O(E)$-time algorithm to find an Euler tour of $G$ if one exists. (Hint: Merge edge-disjoint cycles.)"
   ]
  },
  {
   "cell_type": "markdown",
   "metadata": {},
   "source": [
    "```\n",
    "  1 //defined a Vertex in a strong-connected directed graph\n",
    "  2 class Vertex{\n",
    "  3     List<Vertex> nexts;\n",
    "  4     List<Vertex> prevs;\n",
    "  5 \n",
    "  6     static boolean reachable(Vertex v, Vertex u){\n",
    "  7         //return true only if exist a path from v - > u\n",
    "  8         //can be implemented with BFS or DFS algorithm\n",
    "  9     }\n",
    " 10 \n",
    " 11     List<Vertex> eulerTour(){\n",
    " 12         List<Vertex> tour= new LinkedList<>();\n",
    " 13 \n",
    " 14         for(Vertex u : this.nexts){\n",
    " 15             if(this.nexts.size() == 1 || reachable(u, this)){\n",
    " 16                 tour.add(u);\n",
    " 17                 this.nexts.remove(u);\n",
    " 18                 tour.addAll(u.eulerTour());\n",
    " 19             }\n",
    " 20         }\n",
    " 21 \n",
    " 22         return tour;\n",
    " 23     }\n",
    " 24 }\n",
    "```"
   ]
  },
  {
   "cell_type": "markdown",
   "metadata": {},
   "source": [
    "### 22-4 Reachability\n",
    "\n",
    "> Let $G = (V, E)$ be a directed graph in which each vertex $u \\in V$ is labeled with a unique integer $L(U)$ from the set $\\{1, 2, \\dots, |V|\\}$. For each vertex $u \\in V$, let $R(u) = \\{v \\in V: u \\leadsto v \\}$ be the set of vertices that are reachable from $u$. Define $\\min(u)$ to be the vertex in $R(u)$ whose label is minimum, i.e., $\\min(u)$ is the vertex $v$ such that $L(v) = \\min \\{L(w): w \\in R(u) \\}$. Give an $O(V + E)$-time algorithm that computes $\\min(u)$ for all vertices $u \\in V$."
   ]
  },
  {
   "cell_type": "markdown",
   "metadata": {},
   "source": [
    "DFS from the minimum $L(U)$ in $G^T$."
   ]
  }
 ],
 "metadata": {
  "kernelspec": {
   "display_name": "Python 3",
   "language": "python",
   "name": "python3"
  },
  "language_info": {
   "codemirror_mode": {
    "name": "ipython",
    "version": 3
   },
   "file_extension": ".py",
   "mimetype": "text/x-python",
   "name": "python",
   "nbconvert_exporter": "python",
   "pygments_lexer": "ipython3",
   "version": "3.6.3"
  }
 },
 "nbformat": 4,
 "nbformat_minor": 2
}
