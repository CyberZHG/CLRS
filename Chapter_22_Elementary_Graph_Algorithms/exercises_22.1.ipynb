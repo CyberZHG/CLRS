{
 "cells": [
  {
   "cell_type": "markdown",
   "metadata": {},
   "source": [
    "## 22.1 Representations of graphs"
   ]
  },
  {
   "cell_type": "markdown",
   "metadata": {},
   "source": [
    "### 22.1-1\n",
    "\n",
    "> Given an adjacency-list representation of a directed graph, how long does it take to compute the out-degree of every vertex? How long does it take to compute the in-degrees?"
   ]
  },
  {
   "cell_type": "markdown",
   "metadata": {},
   "source": [
    "* Out-degree: $O(V + E)$.\n",
    "* In-degree: $O(V + E)$."
   ]
  },
  {
   "cell_type": "markdown",
   "metadata": {},
   "source": [
    "### 22.1-2\n",
    "\n",
    "> Give an adjacency-list representation for a complete binary tree on 7 vertices. Give an equivalent adjacency-matrix representation. Assume that vertices are numbered from 1 to 7 as in a binary heap."
   ]
  },
  {
   "cell_type": "markdown",
   "metadata": {},
   "source": [
    "* Adjacency-list representation\n",
    "\n",
    "$1 \\rightarrow 2 \\rightarrow 3$\n",
    "\n",
    "$2 \\rightarrow 1 \\rightarrow 4 \\rightarrow 5$\n",
    "\n",
    "$3 \\rightarrow 1 \\rightarrow 6 \\rightarrow 7$\n",
    "\n",
    "$4 \\rightarrow 2$\n",
    "\n",
    "$5 \\rightarrow 2$\n",
    "\n",
    "$6 \\rightarrow 3$\n",
    "\n",
    "$7 \\rightarrow 3$\n",
    "\n",
    "* Adjacency-matrix representation\n",
    "\n",
    "$$\\left \\{ \\begin{matrix}\n",
    "0 & 1 & 1 & 0 & 0 & 0 & 0 \\\\\n",
    "1 & 0 & 0 & 1 & 1 & 0 & 0 \\\\\n",
    "1 & 0 & 0 & 0 & 0 & 1 & 1 \\\\\n",
    "0 & 1 & 0 & 0 & 0 & 0 & 0 \\\\\n",
    "0 & 1 & 0 & 0 & 0 & 0 & 0 \\\\\n",
    "0 & 0 & 1 & 0 & 0 & 0 & 0 \\\\\n",
    "0 & 0 & 1 & 0 & 0 & 0 & 0 \\\\\n",
    "\\end{matrix} \\right \\}$$"
   ]
  },
  {
   "cell_type": "markdown",
   "metadata": {},
   "source": [
    "### 22.1-3\n",
    "\n",
    "> The __*transpose*__ of a directed graph $G = (V, E)$ is the graph $G^\\text{T} = (V, E^\\text{T})$, where $E^\\text{T} = \\{ (v, u) \\in V \\times V: (u, v) \\in E \\}$. Thus, $G^\\text{T}$ is $G$ with all its edges reversed. Describe efficient algorithms for computing $G^\\text{T}$ from $G$, for both the adjacency-list and adjacency-matrix representations of $G$. Analyze the running times of your algorithms."
   ]
  },
  {
   "cell_type": "markdown",
   "metadata": {},
   "source": [
    "* Adjacency-list representation\n",
    "\n",
    "Reconstruct, $O(V + E)$.\n",
    "\n",
    "* Adjacency-matrix representation\n",
    "\n",
    "Transpose matrix, $O(V^2)$."
   ]
  },
  {
   "cell_type": "markdown",
   "metadata": {},
   "source": [
    "### 22.1-4\n",
    "\n",
    "> Given an adjacency-list representation of a multigraph $G = (V, E)$, describe an $O(V + E)$-time algorithm to compute the adjacency-list representation of the \"equivalent\" undirected graph $G' = (V, E')$, where $E'$ consists of the edges in $E$ with all multiple edges between two vertices replaced by a single edge and with all self-loops removed."
   ]
  },
  {
   "cell_type": "markdown",
   "metadata": {},
   "source": [
    "Merge sort."
   ]
  },
  {
   "cell_type": "markdown",
   "metadata": {},
   "source": [
    "### 22.1-5\n",
    "\n",
    "> The __*square*__ of a directed graph $G = (V, E)$ is the graph $G^2 = (V, E^2)$ such that $(u, v) \\in E^2$ if and only $G$ contains a path with at most two edges between $u$ and $v$. Describe efficient algorithms for computing $G^2$ from $G$ for both the adjacency-list and adjacency-matrix representations of $G$. Analyze the running times of your algorithms."
   ]
  },
  {
   "cell_type": "markdown",
   "metadata": {},
   "source": [
    "* Adjacency-list representation\n",
    "\n",
    "```\n",
    "for i in Adj[u]\n",
    "    Adj^2[u].append(i)\n",
    "    for j in Adj[i]\n",
    "        Adj^2[u].append(j)\n",
    "```\n",
    "\n",
    "The running time depends on the distribution of edges.\n",
    "\n",
    "* Adjacency-matrix representation\n",
    "\n",
    "```\n",
    "for i = 1 to V\n",
    "    for j = 1 to V\n",
    "        if a_{ij} = 1\n",
    "            a^2_{ij} = 1\n",
    "        else\n",
    "            for k = 1 to V\n",
    "                if a_{ik} == 1 and a_{kj} == 1:\n",
    "                    a^2_{ij} = 1\n",
    "                    break\n",
    "```\n",
    "\n",
    "$O(V^3)$."
   ]
  },
  {
   "cell_type": "markdown",
   "metadata": {},
   "source": [
    "### 22.1-6\n",
    "\n",
    "> Most graph algorithms that take an adjacency-matrix representation as input require time $\\Omega(V^2)$, but there are some exceptions. Show how to determine whether a directed graph $G$ contains a __*universal sink*__ - a vertex with in-degree $|V| - 1$ and out-degree 0 - in time $O(V)$, given an adjacency matrix for $G$."
   ]
  },
  {
   "cell_type": "markdown",
   "metadata": {},
   "source": [
    "Starting from $a_{11}$, if $a_{ij} = 0$ then $j = j + 1$, otherwise $i = i + 1$."
   ]
  },
  {
   "cell_type": "markdown",
   "metadata": {},
   "source": [
    "### 22.1-7\n",
    "\n",
    "> The __*incidence matrix*__ of a directed graph $G = (V, E)$ with no self-loops is a $|V| \\times |E|$ matrix $B = (b_{ij})$ such that\n",
    "\n",
    "> $$\n",
    "b_{ij} = \\left \\{\n",
    "\\begin{array}{rl}\n",
    "-1 & \\text{if edge}~j~\\text{leaves vertex}~i, \\\\\n",
    "1 & \\text{if edge}~j~\\text{enters vertex}~i, \\\\\n",
    "0 & \\text{otherwise}. \\\\\n",
    "\\end{array}\n",
    "\\right .\n",
    "$$\n",
    "> Describe what the entries of the matrix product $BB^T$ represent, where $B^T$ is the transpose of $B$."
   ]
  },
  {
   "cell_type": "markdown",
   "metadata": {},
   "source": [
    "$(BB^T)_{ij} = \\sum_{k \\in E} b_{ik} \\cdot b_{jk}$, the result of $b_{ik} \\cdot b_{jk}$ could be 0, 1 and -1. 0 indicates $i$ and $j$ are not connected by edge $k$; 1 indicates $i = j$; -1 indicates there is an edge from $i$ to $j$ or from $j$ to $i$. Therefore, if $i=j$, $(BB^T)_{ij}$ is the degree of vertex $i$; if $i \\ne j$, $(BB^T)_{ij}$ is the negative of number of edges connecting $i$ and $j$."
   ]
  },
  {
   "cell_type": "markdown",
   "metadata": {},
   "source": [
    "### 22.1-8\n",
    "\n",
    "> Suppose that instead of a linked list, each array entry $Adj[u]$ is a hash table containing the vertices $v$ for which $(u, v) \\in E$. If all edge lookups are equally likely, what is the expected time to determine whether an edge is in the graph? What disadvantages does this scheme have? Suggest an alternate data structure for each edge list that solves these problems. Does your alternative have disadvantages compared to the hash table?"
   ]
  },
  {
   "cell_type": "markdown",
   "metadata": {},
   "source": [
    "* Expected time: $O(1)$.\n",
    "* Disadvantages: More space.\n",
    "* Alternative: BST, RB-Trees, ...\n",
    "* Disadvantages: $O(\\lg n)$."
   ]
  }
 ],
 "metadata": {
  "kernelspec": {
   "display_name": "Python 3",
   "language": "python",
   "name": "python3"
  },
  "language_info": {
   "codemirror_mode": {
    "name": "ipython",
    "version": 3
   },
   "file_extension": ".py",
   "mimetype": "text/x-python",
   "name": "python",
   "nbconvert_exporter": "python",
   "pygments_lexer": "ipython3",
   "version": "3.6.3"
  }
 },
 "nbformat": 4,
 "nbformat_minor": 2
}
