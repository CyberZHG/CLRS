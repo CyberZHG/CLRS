{
 "cells": [
  {
   "cell_type": "markdown",
   "metadata": {},
   "source": [
    "## 22.3 Depth-first search"
   ]
  },
  {
   "cell_type": "markdown",
   "metadata": {},
   "source": [
    "### 22.3-1\n",
    "\n",
    "> Make a 3-by-3 chart with row and column labels WHITE, GRAY, and BLACK. In each cell $(i, j)$, indicate whether, at any point during a depth-first search of a directed graph, there can be an edge from a vertex of color $i$ to a vertex of color $j$. For each possible edge, indicate what edge types it can be. Make a second such chart for depth-first search of an undirected graph."
   ]
  },
  {
   "cell_type": "markdown",
   "metadata": {},
   "source": [
    "Directed:\n",
    "\n",
    "| $i$ \\ $j$ | WHITE | GRAY | BLACK |\n",
    "| :---: | :---: | :---: | :---: |\n",
    "| WHITE | TBFC | BC | C |\n",
    "| GRAY | TF | TBF | TFC |\n",
    "| BLACK |  | BC | TBFC |\n",
    "\n",
    "Undirected:\n",
    "\n",
    "| $i$ \\ $j$ | WHITE | GRAY | BLACK |\n",
    "| :---: | :---: | :---: | :---: |\n",
    "| WHITE | TB | TB |  |\n",
    "| GRAY | TB | TB | TB |\n",
    "| BLACK |  | TB | TB |"
   ]
  },
  {
   "cell_type": "markdown",
   "metadata": {},
   "source": [
    "### 22.3-2\n",
    "\n",
    "> Show how depth-first search works on the graph of Figure 22.6. Assume that the _**for**_ loop of lines 5–7 of the DFS procedure considers the vertices in alphabetical order, and assume that each adjacency list is ordered alphabetically. Show the discovery and finishing times for each vertex, and show the classification of each edge."
   ]
  },
  {
   "cell_type": "markdown",
   "metadata": {},
   "source": [
    "![](./img/22.3-2_1.png)\n",
    "\n",
    "* Tree edges: \\(q, s\\) \\(s, v\\) \\(v, w\\) \\(q, t\\) \\(t, x\\) \\(x, z\\) \\(t, y\\) \\(r, u\\)\n",
    "* Back edges: \\(w, s\\) \\(z, x\\), \\(y, q\\)\n",
    "* Forward edges: \\(q, w\\)\n",
    "* Cross edges: \\(r, y\\) \\(u, y\\)"
   ]
  },
  {
   "cell_type": "markdown",
   "metadata": {},
   "source": [
    "### 22.3-3\n",
    "\n",
    "> Show the parenthesis structure of the depth-first search of Figure 22.4."
   ]
  },
  {
   "cell_type": "markdown",
   "metadata": {},
   "source": [
    "![](./img/22.3-3_1.png)"
   ]
  },
  {
   "cell_type": "markdown",
   "metadata": {},
   "source": [
    "### 22.3-4\n",
    "\n",
    "> Show that using a single bit to store each vertex color suffices by arguing that the DFS procedure would produce the same result if line 3 of DFS-VISIT was removed."
   ]
  },
  {
   "cell_type": "markdown",
   "metadata": {},
   "source": [
    "Line 3: color = BLACK"
   ]
  },
  {
   "cell_type": "markdown",
   "metadata": {},
   "source": [
    "### 22.3-5\n",
    "\n",
    "> Show that edge $(u, v)$ is\n",
    ">\n",
    "> _**a**_. a tree edge or forward edge if and only if $u.d < v.d < v.f < u.f$,"
   ]
  },
  {
   "cell_type": "markdown",
   "metadata": {},
   "source": [
    "$u$ is an ancestor of $v$."
   ]
  },
  {
   "cell_type": "markdown",
   "metadata": {},
   "source": [
    "> _**b**_. a back edge if and only if $v.d \\le u.d < u.f \\le v.f$, and"
   ]
  },
  {
   "cell_type": "markdown",
   "metadata": {},
   "source": [
    "$u$ is a descendant of $v$."
   ]
  },
  {
   "cell_type": "markdown",
   "metadata": {},
   "source": [
    "> _**c**_. a cross edge if and only if $v.d < v.f < u.d < u.f$."
   ]
  },
  {
   "cell_type": "markdown",
   "metadata": {},
   "source": [
    "$v$ is visited before $u$."
   ]
  },
  {
   "cell_type": "markdown",
   "metadata": {},
   "source": [
    "### 22.3-6\n",
    "\n",
    "> Show that in an undirected graph, classifying an edge $(u, v)$ as a tree edge or a back edge according to whether $(u, v)$ or $(v, u)$ is encountered first during the depth-first search is equivalent to classifying it according to the ordering of the four types in the classification scheme."
   ]
  },
  {
   "cell_type": "markdown",
   "metadata": {},
   "source": [
    "By changing an undirected graph into a directed graph with two-way edges, an equivalent result is produced."
   ]
  },
  {
   "cell_type": "markdown",
   "metadata": {},
   "source": [
    "### 22.3-7\n",
    "\n",
    "> Rewrite the procedure DFS, using a stack to eliminate recursion."
   ]
  },
  {
   "cell_type": "markdown",
   "metadata": {},
   "source": [
    "Goto."
   ]
  },
  {
   "cell_type": "markdown",
   "metadata": {},
   "source": [
    "### 22.3-8\n",
    "\n",
    "> Give a counterexample to the conjecture that if a directed graph $G$ contains a path from $u$ to $v$, and if $u.d < v.d$ in a depth-first search of $G$, then $v$ is a descendant of $u$ in the depth-first forest produced."
   ]
  },
  {
   "cell_type": "markdown",
   "metadata": {},
   "source": [
    "$E = \\{(w, u), (w, v), (u, w)\\}$, search $w$ first."
   ]
  },
  {
   "cell_type": "markdown",
   "metadata": {},
   "source": [
    "### 22.3-9\n",
    "\n",
    "> Give a counterexample to the conjecture that if a directed graph $G$ contains a path  \n",
    "> from $u$ to $v$, then any depth-first search must result in $v.d \\le u.f$."
   ]
  },
  {
   "cell_type": "markdown",
   "metadata": {},
   "source": [
    "$E = \\{(w, u), (w, v), (u, w)\\}$, search $w$ first."
   ]
  },
  {
   "cell_type": "markdown",
   "metadata": {},
   "source": [
    "### 22.3-10\n",
    "\n",
    "> Modify the pseudocode for depth-first search so that it prints out every edge in the directed graph $G$, together with its type. Show what modifications, if any, you need to make if $G$ is undirected."
   ]
  },
  {
   "cell_type": "markdown",
   "metadata": {},
   "source": [
    "See exercises 22.3-5."
   ]
  },
  {
   "cell_type": "markdown",
   "metadata": {},
   "source": [
    "### 22.3-11\n",
    "\n",
    "> Explain how a vertex $u$ of a directed graph can end up in a depth-first tree containing only $u$, even though $u$ has both incoming and outgoing edges in $G$."
   ]
  },
  {
   "cell_type": "markdown",
   "metadata": {},
   "source": [
    "$E = \\{(w, u), (u, v)\\}$, search $v$ then search $u$."
   ]
  },
  {
   "cell_type": "markdown",
   "metadata": {},
   "source": [
    "### 22.3-12\n",
    "\n",
    "> Show that we can use a depth-first search of an undirected graph $G$ to identify the connected components of $G$, and that the depth-first forest contains as many trees as $G$ has connected components. More precisely, show how to modify depth-first search so that it assigns to each vertex $v$ an integer label $v.cc$ between $1$ and $k$, where $k$ is the number of connected components of $G$, such that $u.cc = v.cc$ if and only if $u$ and $v$ are in the same connected component."
   ]
  },
  {
   "cell_type": "markdown",
   "metadata": {},
   "source": [
    "```\n",
    "DFS(G)\n",
    "1  for each vertex u in G.V\n",
    "2      u.color = WHITE\n",
    "3      u:pi = NIL\n",
    "4  time = 0\n",
    "5  cc = 0\n",
    "6  for each vertex u in G.V\n",
    "7      if u.color == WHITE\n",
    "8          cc = cc + 1\n",
    "9          DFS-VISIT(G, u)\n",
    "```\n",
    "\n",
    "```\n",
    "DFS-VISIT(G, u)\n",
    "1  u.cc = cc\n",
    "...\n",
    "```"
   ]
  },
  {
   "cell_type": "markdown",
   "metadata": {},
   "source": [
    "### 22.3-13 $\\star$\n",
    "\n",
    "> A directed graph $G = (V, E)$ is _**singly connected**_ if $u \\leadsto v$ implies that $G$ contains at most one simple path from $u$ to $v$ for all vertices $u, v \\in V$. Give an efficient algorithm to determine whether or not a directed graph is singly connected."
   ]
  },
  {
   "cell_type": "markdown",
   "metadata": {},
   "source": [
    "Run DFS for every vertex, if $v.color$ is BLACK, then the graph is not singly connected, $O(V\\cdot(V+E))$."
   ]
  }
 ],
 "metadata": {
  "kernelspec": {
   "display_name": "Python 3",
   "language": "python",
   "name": "python3"
  },
  "language_info": {
   "codemirror_mode": {
    "name": "ipython",
    "version": 3
   },
   "file_extension": ".py",
   "mimetype": "text/x-python",
   "name": "python",
   "nbconvert_exporter": "python",
   "pygments_lexer": "ipython3",
   "version": "3.6.3"
  }
 },
 "nbformat": 4,
 "nbformat_minor": 2
}
