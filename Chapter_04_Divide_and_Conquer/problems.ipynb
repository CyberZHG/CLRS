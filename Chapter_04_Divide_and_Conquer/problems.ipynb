{
 "cells": [
  {
   "cell_type": "markdown",
   "metadata": {},
   "source": [
    "## Problems"
   ]
  },
  {
   "cell_type": "markdown",
   "metadata": {},
   "source": [
    "### 4-1 Recurrence examples\n",
    "\n",
    "> Give asymptotic upper and lower bounds for $T(n)$ in each of the following recurrences. Assume that $T(n)$ is constant for $n \\le 2$. Make your bounds as tight as possible, and justify your answers."
   ]
  },
  {
   "cell_type": "markdown",
   "metadata": {},
   "source": [
    "> __*a*__. $T(n)=2T(n/2)+n^4$."
   ]
  },
  {
   "cell_type": "markdown",
   "metadata": {},
   "source": [
    "$\\Theta(n^4)$"
   ]
  },
  {
   "cell_type": "markdown",
   "metadata": {},
   "source": [
    "> __*b*__. $T(n)=T(7n/10)+n$."
   ]
  },
  {
   "cell_type": "markdown",
   "metadata": {},
   "source": [
    "$\\Theta(n)$"
   ]
  },
  {
   "cell_type": "markdown",
   "metadata": {},
   "source": [
    "> __*c*__. $T(n)=16T(n/4)+n^2$."
   ]
  },
  {
   "cell_type": "markdown",
   "metadata": {},
   "source": [
    "$\\Theta(n^2 \\lg n)$"
   ]
  },
  {
   "cell_type": "markdown",
   "metadata": {},
   "source": [
    "> __*d*__. $T(n)=7T(n/3)+n^2$."
   ]
  },
  {
   "cell_type": "markdown",
   "metadata": {},
   "source": [
    "$\\Theta(n^2)$"
   ]
  },
  {
   "cell_type": "markdown",
   "metadata": {},
   "source": [
    "> __*e*__. $T(n)=7T(n/2)+n^2$."
   ]
  },
  {
   "cell_type": "markdown",
   "metadata": {},
   "source": [
    "$\\Theta(n^{\\lg 7})$"
   ]
  },
  {
   "cell_type": "markdown",
   "metadata": {},
   "source": [
    "> __*f*__. $T(n)=2T(n/4)+\\sqrt{n}$."
   ]
  },
  {
   "cell_type": "markdown",
   "metadata": {},
   "source": [
    "$\\Theta(\\sqrt{n}\\lg n)$"
   ]
  },
  {
   "cell_type": "markdown",
   "metadata": {},
   "source": [
    "> __*g*__. $T(n)=T(n-2)+n^2$."
   ]
  },
  {
   "cell_type": "markdown",
   "metadata": {},
   "source": [
    "$\\Theta(n^3)$"
   ]
  },
  {
   "cell_type": "markdown",
   "metadata": {},
   "source": [
    "### 4-2 Parameter-passing costs\n",
    "\n",
    "> Throughout this book, we assume that parameter passing during procedure calls takes constant time, even if an $N$-element array is being passed. This assumption is valid in most systems because a pointer to the array is passed, not the array itself.\n",
    "> \n",
    "> This problem examines the implications of three parameter-passing strategies:\n",
    "> \n",
    "> 1. An array is passed by pointer. Time $=\\Theta(1)$.\n",
    "> 2. An array is passed by copying. Time $=\\Theta(N)$ where $N$ is the size of the array.\n",
    "> 3. An array is passed by copying only the subrange that might be accessed by the called procedure. Time D $=\\Theta(q-p+1)$ if the subarray $A[p \\dots q]$ is passed."
   ]
  },
  {
   "cell_type": "markdown",
   "metadata": {},
   "source": [
    "> __*a*__. Consider the recursive binary search algorithm for finding a number in a sorted array (see Exercise 2.3-5). Give recurrences for the worst-case running times of binary search when arrays are passed using each of the three methods above, and give good upper bounds on the solutions of the recurrences. Let $N$ be the size of the original problem and $n$ be the size of a subproblem."
   ]
  },
  {
   "cell_type": "markdown",
   "metadata": {},
   "source": [
    "1. $T(n)=T(n/2)+1=\\Theta(\\lg n)$\n",
    "2. $T(n)=T(n/2)+N=\\Theta(n \\lg n)$\n",
    "3. $T(n)=T(n/2)+n=\\Theta(n)$"
   ]
  },
  {
   "cell_type": "markdown",
   "metadata": {},
   "source": [
    "> __*b*__. Redo part (a) for the MERGE-SORT algorithm from Section 2.3.1."
   ]
  },
  {
   "cell_type": "markdown",
   "metadata": {},
   "source": [
    "1. $T(n)=2T(n/2)+n+c=2T(n/2)+n=\\Theta(n\\lg n)$\n",
    "2. $T(n)=2T(n/2)+n+N=2T(n/2)+N=\\Theta(n^2)$\n",
    "3. $T(n)=2T(n/2)+n+n=2T(n/2)+n=\\Theta(n\\lg n)$"
   ]
  },
  {
   "cell_type": "markdown",
   "metadata": {},
   "source": [
    "### 4-3 More recurrence examples\n",
    "\n",
    "> Give asymptotic upper and lower bounds for $T(n)$ in each of the following recurrences. Assume that $T(n)$ is constant for sufficiently small $n$. Make your bounds as tight as possible, and justify your answers."
   ]
  },
  {
   "cell_type": "markdown",
   "metadata": {},
   "source": [
    "> __*a*__. $T(n) = 4T(n/3) + n\\lg n$."
   ]
  },
  {
   "cell_type": "markdown",
   "metadata": {},
   "source": [
    "$\\Theta(n^{\\log_3^4})$"
   ]
  },
  {
   "cell_type": "markdown",
   "metadata": {},
   "source": [
    "> __*b*__. $T(n) = 3T(n/3) + n/\\lg n$."
   ]
  },
  {
   "cell_type": "markdown",
   "metadata": {},
   "source": [
    "For harmonic series:\n",
    "\n",
    "$$\n",
    "\\ln (n+1) \\le \\int_1^{n+1} \\frac{1}{t}dt \\le \\sum_{i=1}^n \\frac{1}{i} \\le 1 + \\int_1^n \\frac{1}{t}dt = 1 + \\ln n\n",
    "$$\n",
    "\n",
    "Therefore, harmonic series are $\\Theta(\\lg n)$\n",
    "\n",
    "$$\n",
    "\\begin{array}{rll}\n",
    "T(n) & = & \\displaystyle n\\sum_{i=0}^{\\log_3{n} - 1}\\frac{1}{\\lg \\frac{n}{3^i}} \\\\\n",
    "& = & \\displaystyle \\Theta(n\\sum_{i=0}^{\\log_3{n} - 1}\\frac{1}{\\log_3 \\frac{n}{3^i}}) \\\\\n",
    "& = & \\displaystyle \\Theta(n\\sum_{i=1}^{\\log_3{n}}\\frac{1}{i}) \\\\\n",
    "& = & \\displaystyle \\Theta(n\\lg \\lg n)\n",
    "\\end{array}\n",
    "$$"
   ]
  },
  {
   "cell_type": "markdown",
   "metadata": {},
   "source": [
    "> __*c*__. $T(n) = 4T(n/2) + n^2\\sqrt{n}$."
   ]
  },
  {
   "cell_type": "markdown",
   "metadata": {},
   "source": [
    "$\\Theta(n^2\\sqrt{n})$"
   ]
  },
  {
   "cell_type": "markdown",
   "metadata": {},
   "source": [
    "> __*d*__. $T(n) = 3T(n/3-2) + n/2$."
   ]
  },
  {
   "cell_type": "markdown",
   "metadata": {},
   "source": [
    "$\\Theta(n\\lg n)$"
   ]
  },
  {
   "cell_type": "markdown",
   "metadata": {},
   "source": [
    "> __*e*__. $T(n) = 2T(n/2) + n/\\lg n$."
   ]
  },
  {
   "cell_type": "markdown",
   "metadata": {},
   "source": [
    "Same as __*b*__,\n",
    "\n",
    "$\\Theta(n\\lg \\lg n)$"
   ]
  },
  {
   "cell_type": "markdown",
   "metadata": {},
   "source": [
    "> __*f*__. $T(n) = T(n/2) + T(n/4) + T(n/8) + n$."
   ]
  },
  {
   "cell_type": "markdown",
   "metadata": {},
   "source": [
    "$\\Theta(n)$"
   ]
  },
  {
   "cell_type": "markdown",
   "metadata": {},
   "source": [
    "> __*g*__. $T(n) = T(n-1) + 1/n$."
   ]
  },
  {
   "cell_type": "markdown",
   "metadata": {},
   "source": [
    "$$\n",
    "\\begin{array}{rll}\n",
    "T(n) & = & \\displaystyle \\sum_{i=1}^n \\frac{1}{i} \\\\\n",
    "& = & \\displaystyle \\Theta(\\lg n)\n",
    "\\end{array}\n",
    "$$"
   ]
  },
  {
   "cell_type": "markdown",
   "metadata": {},
   "source": [
    "> __*h*__. $T(n) = T(n-1) + \\lg n$."
   ]
  },
  {
   "cell_type": "markdown",
   "metadata": {},
   "source": [
    "$$\n",
    "\\begin{array}{rll}\n",
    "T(n) & = & \\displaystyle \\sum_{i=1}^n \\lg{i} \\\\\n",
    "& = & \\displaystyle \\lg{n!} \\\\\n",
    "& \\le & \\displaystyle \\lg{n^n} \\\\\n",
    "& = & \\displaystyle \\Theta(n\\lg n)\n",
    "\\end{array}\n",
    "$$"
   ]
  },
  {
   "cell_type": "markdown",
   "metadata": {},
   "source": [
    "> __*i*__. $T(n) = T(n-2) + 1/\\lg n$."
   ]
  },
  {
   "cell_type": "markdown",
   "metadata": {},
   "source": [
    "$$\n",
    "\\begin{array}{rll}\n",
    "T(n) & = & \\displaystyle \\sum_{i=1}^{n/2} \\frac{1}{\\lg{2i}} \\\\\n",
    "& = & \\displaystyle \\Theta(\\lg \\lg n)\n",
    "\\end{array}\n",
    "$$"
   ]
  },
  {
   "cell_type": "markdown",
   "metadata": {},
   "source": [
    "> __*j*__. $T(n) = \\sqrt{n} T(\\sqrt{n}) + n$."
   ]
  },
  {
   "cell_type": "markdown",
   "metadata": {},
   "source": [
    "Let $n = 2^m$,\n",
    "\n",
    "$$\n",
    "\\begin{array}{rll}\n",
    "T(n) &=& \\sqrt{n} T(\\sqrt{n}) + n \\\\\n",
    "T(2^m) &=& 2^{m/2}T(2^{m/2}) + 2^m \\\\\n",
    "\\frac{T(2^m)}{2^m} &=& \\frac{T(2^{m/2})}{2^{m/2}} + 1 \\\\\n",
    "\\end{array}\n",
    "$$\n",
    "\n",
    "Let $\\displaystyle S(m)=\\frac{T(2^m)}{2^m}$, $ S(m) = S(m/2) + 1 = \\Theta(\\lg m)$,\n",
    "\n",
    "$\\therefore$ $T(2^m)=\\Theta(2^m \\lg m)$\n",
    "\n",
    "$\\therefore$ $T(n)=\\Theta(n \\lg \\lg n)$"
   ]
  },
  {
   "cell_type": "markdown",
   "metadata": {},
   "source": [
    "### 4-4 Fibonacci numbers\n",
    "\n",
    "> This problem develops properties of the Fibonacci numbers, which are defined by recurrence (3.22). We shall use the technique of generating functions to solve the Fibonacci recurrence. Define the __generating function__ (or __formal power series__) $\\mathcal{F}$ as\n",
    "\n",
    "> $$\n",
    "\\begin{array}{lll}\n",
    "\\mathcal{F}(z) & = & \\sum_{i=0}^\\infty F_i z^i \\\\\n",
    "               & = & 0 + z + z^2 + 2z^3 + 3z^4 + 5z^5 + 8z^6 + 13z^7 + 21z^8+\\dots\n",
    "\\end{array}\n",
    "$$\n",
    "\n",
    "> where $\\mathcal{F}_i$ is the $i$th Fibonacci number."
   ]
  },
  {
   "cell_type": "markdown",
   "metadata": {},
   "source": [
    "> __*a*__. Show that $\\mathcal{F}(z) = z + z \\mathcal{F}(z) + z^2\\mathcal{F}(z)$."
   ]
  },
  {
   "cell_type": "markdown",
   "metadata": {},
   "source": [
    "$$\n",
    "\\begin{array}{rll}\n",
    "z + z \\mathcal{F}(z) + z^2\\mathcal{F}(z) &=& z + z\\sum_{i=0}^\\infty F_i z^i + z^2\\sum_{i=0}^\\infty F_i z^i \\\\ \n",
    "&=& z + \\sum_{i=1}^\\infty F_{i-1} z^i + \\sum_{i=2}^\\infty F_{i-2} z^i \\\\\n",
    "&=& z + z^2 + \\sum_{i=2}^\\infty(F_{i-1} + F_{i-2})z^i \\\\\n",
    "&=& z + z^2 + \\sum_{i=2}^\\infty F_iz^i \\\\\n",
    "&=& \\sum_{i=0}^\\infty F_iz^i \\\\\n",
    "& = & \\mathcal{F}(z)\n",
    "\\end{array}\n",
    "$$"
   ]
  },
  {
   "cell_type": "markdown",
   "metadata": {},
   "source": [
    "> __*b*__. Show that\n",
    ">\n",
    "> $$\n",
    "\\begin{array}{lll}\n",
    "\\mathcal{F}(z) & = & \\displaystyle \\frac{z}{1-z-z^2} \\\\\n",
    "               & = & \\displaystyle \\frac{z}{(1-\\phi z)(1 - \\hat{\\phi}z)} \\\\\n",
    "               & = & \\displaystyle \\frac{1}{\\sqrt{5}}(\\frac{1}{1-\\phi z}-\\frac{1}{1-\\hat{\\phi} z}) \\\\\n",
    "\\end{array}\n",
    "$$\n",
    "\n",
    "> $$\\phi=\\frac{1+\\sqrt{5}}{2}=1.61803\\dots$$\n",
    "\n",
    "> and\n",
    "\n",
    "> $$\\hat{\\phi}=\\frac{1-\\sqrt{5}}{2}=-0.61803\\dots$$"
   ]
  },
  {
   "cell_type": "markdown",
   "metadata": {},
   "source": [
    "$$\n",
    "\\begin{array}{rll}\n",
    "\\mathcal{F}(z) &=& \\displaystyle z + z \\mathcal{F}(z) + z^2\\mathcal{F}(z) \\\\\n",
    "(1-z-z^2)\\mathcal{F}(z) &=& \\displaystyle z \\\\\n",
    "\\mathcal{F}(z) &=& \\displaystyle \\frac{z}{1-z-z^2}\n",
    "\\end{array}\n",
    "$$\n",
    "\n",
    "$$\n",
    "\\begin{array}{rll}\n",
    "(1-\\phi z)(1 - \\hat{\\phi}z) &=& 1 - (\\phi + \\hat{\\phi})z + \\phi \\hat{\\phi} z^2 \\\\\n",
    "\\phi + \\hat{\\phi} &=& 1 \\\\\n",
    "\\phi \\hat{\\phi} &=& \\displaystyle \\frac{1-5}{4} = -1 \\\\\n",
    "\\therefore (1-\\phi z)(1 - \\hat{\\phi}z) &=& 1 - z - z^2 \\\\\n",
    "\\therefore \\mathcal{F}(z) & = & \\displaystyle \\frac{z}{(1-\\phi z)(1 - \\hat{\\phi}z)}\n",
    "\\end{array}\n",
    "$$\n",
    "\n",
    "$$\n",
    "\\begin{array}{rll}\n",
    "\\displaystyle \\frac{1}{\\sqrt{5}}(\\frac{1}{1-\\phi z}-\\frac{1}{1-\\hat{\\phi} z}) &=& \\displaystyle \\frac{1}{\\sqrt{5}}(\\frac{(\\hat{\\phi} - \\phi)z}{(1-\\phi z)(1-\\hat{\\phi} z)}) \\\\\n",
    "\\mathcal{F}(z) &=& \\displaystyle \\frac{1}{\\sqrt{5}}(\\frac{1}{1-\\phi z}-\\frac{1}{1-\\hat{\\phi} z}) \\\\\n",
    "\\end{array}\n",
    "$$"
   ]
  },
  {
   "cell_type": "markdown",
   "metadata": {},
   "source": [
    "> __*c*__. Show that\n",
    "\n",
    "> $$\\mathcal{F}(z)=\\sum_{i=0}^{\\infty}\\frac{1}{\\sqrt{5}}(\\phi^i-\\hat{\\phi^i})z^i$$."
   ]
  },
  {
   "cell_type": "markdown",
   "metadata": {},
   "source": [
    "$$\\sum_{i=0}^\\infty x^i=\\frac{1}{1-x}$$,\n",
    "\n",
    "$$\n",
    "\\begin{array}{rll}\n",
    "\\mathcal{F}(z) &=& \\displaystyle \\frac{1}{\\sqrt{5}}(\\frac{1}{1-\\phi z}-\\frac{1}{1-\\hat{\\phi} z}) \\\\\n",
    "&=& \\displaystyle \\sum_{i=0}^{\\infty}\\frac{1}{\\sqrt{5}}(\\phi^i-\\hat{\\phi^i})z^i\n",
    "\\end{array}\n",
    "$$"
   ]
  },
  {
   "cell_type": "markdown",
   "metadata": {},
   "source": [
    "> __*d*__. Use part (c) to prove that $F_i=\\phi^i/\\sqrt{5}$ for $i>0$, rounded to the nearest integer. (Hint: Observe that $| \\hat{\\phi} | < 1$.)"
   ]
  },
  {
   "cell_type": "markdown",
   "metadata": {},
   "source": [
    "$$\\frac{\\hat{\\phi^i}}{\\sqrt{5}} \\le 0.5$$"
   ]
  },
  {
   "cell_type": "markdown",
   "metadata": {},
   "source": [
    "### 4-5 Chip testing\n",
    "\n",
    "> Professor Diogenes has $n$ supposedly identical integrated-circuit chips that in principle are capable of testing each other. The professor’s test jig accommodates two chips at a time. When the jig is loaded, each chip tests the other and reports whether it is good or bad. A good chip always reports accurately whether the other chip is good or bad, but the professor cannot trust the answer of a bad chip. Thus, the four possible outcomes of a test are as follows:\n",
    "\n",
    "> | Chip A says | Chip B says | Conclusion |\n",
    "  |:------------|:------------|:-----------|\n",
    "  |B is good |A is good |both are good, or both are bad|\n",
    "  |B is good |A is bad |at least one is bad|\n",
    "  |B is bad |A is good |at least one is bad|\n",
    "  |B is bad |A is bad |at least one is bad|"
   ]
  },
  {
   "cell_type": "markdown",
   "metadata": {},
   "source": [
    "> __*a*__. Show that if more than $n/2$ chips are bad, the professor cannot necessarily determine which chips are good using any strategy based on this kind of pairwise test. Assume that the bad chips can conspire to fool the professor."
   ]
  },
  {
   "cell_type": "markdown",
   "metadata": {},
   "source": [
    "Symmetric."
   ]
  },
  {
   "cell_type": "markdown",
   "metadata": {},
   "source": [
    "> __*b*__. Consider the problem of finding a single good chip from among $n$ chips, assuming that more than $n/2$ of the chips are good. Show that $\\left \\lfloor n / 2 \\right \\rfloor$ pairwise tests are sufficient to reduce the problem to one of nearly half the size."
   ]
  },
  {
   "cell_type": "markdown",
   "metadata": {},
   "source": [
    "First assume $n$ is even, then divide the chips in two groups, test each pair of chips with the same index from the two groups. If the result are is good, we keep one of chips; otherwise we remove both the chips. If $n$ is odd, if there are odd number of chips left after the selections, then there must be more good chips than bad chips, we can simply discard the odd chip; otherwise if there are even number of chips, then if there are equal number of good and bad chips, the odd one must be good, and if there are more good chips than bad chips, the difference must be larger or equal to 2, therefore we can safely add the odd one to the set for next iteration."
   ]
  },
  {
   "cell_type": "markdown",
   "metadata": {},
   "source": [
    "$$T(n)=T(n/2)+n/2 = \\sum_{i=0}^{\\lg n - 1} \\frac{n}{2^i} \\le n/2$$"
   ]
  },
  {
   "cell_type": "code",
   "execution_count": 1,
   "metadata": {},
   "outputs": [],
   "source": [
    "import random\n",
    "\n",
    "\n",
    "class Chip:\n",
    "    def __init__(self, state):\n",
    "        self.state = state\n",
    "\n",
    "    def check(self, other):\n",
    "        if self.state:\n",
    "            return other.state\n",
    "        return random.randint(0, 1)\n",
    "\n",
    "\n",
    "def check(chip_a, chip_b):\n",
    "    return chip_a.check(chip_b) and chip_b.check(chip_a)\n",
    "\n",
    "\n",
    "def choose_good_chip(chips):\n",
    "    assert(len(chips) > 0)\n",
    "    if len(chips) == 1:\n",
    "        return chips[0]\n",
    "    mid = len(chips) // 2\n",
    "    next_chips = []\n",
    "    for i in range(mid):\n",
    "        if check(chips[i], chips[mid + i]):\n",
    "            next_chips.append(chips[i])\n",
    "    if len(chips) % 2 == 1 and len(next_chips) % 2 == 0:\n",
    "        next_chips.append(chips[-1])\n",
    "    return choose_good_chip(next_chips)"
   ]
  },
  {
   "cell_type": "markdown",
   "metadata": {},
   "source": [
    "> __*c*__. Show that the good chips can be identified with $\\Theta(n)$ pairwise tests, assuming that more than $n/2$ of the chips are good. Give and solve the recurrence that describes the number of tests."
   ]
  },
  {
   "cell_type": "markdown",
   "metadata": {},
   "source": [
    "Based on master theorem, $T(n)=T(n/2)+n/2=\\Theta(n)$"
   ]
  },
  {
   "cell_type": "markdown",
   "metadata": {},
   "source": [
    "### 4-6 Monge arrays\n",
    "\n",
    "> An $m \\times n$ array $A$ of real numbers is a __*Monge array*__ if for all $i$, $j$, $k$ and $l$ such that $1 \\le i < k \\le m$ and $1 \\le j < l \\le n$, we have\n",
    "\n",
    "> $$A[i,j]+A[k,l] \\le A[i,l]+A[k,j]$$.\n",
    "\n",
    "> In other words, whenever we pick two rows and two columns of a Monge array and consider the four elements at the intersections of the rows and the columns, the sum of the upper-left and lower-right elements is less than or equal to the sum of the lower-left and upper-right elements. For example, the following array is Monge:\n",
    "\n",
    "> $$\\begin{matrix}\n",
    "10 & 17 & 13 & 28 & 23 \\\\\n",
    "17 & 22 & 16 & 29 & 23 \\\\\n",
    "24 & 28 & 22 & 34 & 24 \\\\\n",
    "11 & 13 & 6 & 17 & 7 \\\\\n",
    "45 & 44 & 32 & 37 & 23 \\\\\n",
    "36 & 33 & 19 & 21 & 6 \\\\\n",
    "75 & 66 & 51 & 53 & 34 \\\\\n",
    "\\end{matrix}$$"
   ]
  },
  {
   "cell_type": "markdown",
   "metadata": {},
   "source": [
    "> __*a*__. Prove that an array is Monge if and only if for all $i=1,2,\\dots,m-1$ and $j=1,2,\\dots,n-1$, we have\n",
    "\n",
    "> $$A[i,j]+A[i+1,j+1] \\le A[i,j+1]+A[i+1,j]$$.\n",
    "\n",
    "> (Hint: For the \"if\" part, use induction separately on rows and columns.)"
   ]
  },
  {
   "cell_type": "markdown",
   "metadata": {},
   "source": [
    "If $A[i,j]+A[i+1,j+1] \\ge A[i,j+1]+A[i+1,j]$, it contradicts the definition of Monge arrays.\n",
    "\n",
    "If $A[i,j]+A[i+1,j+1] \\le A[i,j+1]+A[i+1,j]$, \n",
    "\n",
    "suppose $A[i,l-1]+A[k-1,l] \\le A[i,l]+A[k-1,l-1]$,\n",
    "\n",
    "since $A[k-1,l-1]+A[k,l] \\le A[k-1,l]+A[k,l-1]$,\n",
    "\n",
    "therefore $A[i,l-1]+A[k,l] \\le A[i,l]+A[k,l-1]$;\n",
    "\n",
    "suppose $A[i, j]+A[k, l-1] \\le A[i, l-1] + A[k, j]$,\n",
    "\n",
    "since $A[i,l-1]+A[k,l] \\le A[i,l]+A[k,l-1]$,\n",
    "\n",
    "therefore $A[i,j]+A[k,l] \\le A[i,l]+A[k,j]$."
   ]
  },
  {
   "cell_type": "markdown",
   "metadata": {},
   "source": [
    "> __*b*__. The following array is not Monge. Change one element in order to make it Monge. (Hint: Use part (a).)\n",
    "\n",
    "> $$\\begin{matrix}\n",
    "37 & 23 & 22 & 32 \\\\\n",
    "21 & 6 & 7 & 10 \\\\\n",
    "53 & 34 & 30 & 31 \\\\\n",
    "32 & 13 & 9 & 6 \\\\\n",
    "43 & 21 & 15 & 8 \\\\\n",
    "\\end{matrix}$$"
   ]
  },
  {
   "cell_type": "markdown",
   "metadata": {},
   "source": [
    "$$\n",
    "\\begin{matrix}\n",
    "37 & 23 & \\mathbf{24} & 32 \\\\\n",
    "21 & 6 & 7 & 10 \\\\\n",
    "53 & 34 & 30 & 31 \\\\\n",
    "32 & 13 & 9 & 6 \\\\\n",
    "43 & 21 & 15 & 8 \\\\\n",
    "\\end{matrix}\n",
    "$$"
   ]
  },
  {
   "cell_type": "markdown",
   "metadata": {},
   "source": [
    "> __*c*__. Let $f(i)$ be the index of the column containing the leftmost minimum element of row $i$ . Prove that $f(1) \\le f(2) \\le \\dots \\le f(m)$ for any $m \\times n$ Monge array."
   ]
  },
  {
   "cell_type": "markdown",
   "metadata": {},
   "source": [
    "Let $i$ and $j$ be the index of leftmost minimal elements on row $a$ and $b$, suppose $a < b$ and $i \\ge j$.\n",
    "\n",
    "$A[a,i] \\le A[a,j]$,\n",
    "\n",
    "$A[b,j] \\le A[b,i]$,\n",
    "\n",
    "$A[a,j] + A[b,i] \\le A[a,i]+ A[b,j]$,\n",
    "\n",
    "the inequality is satisfied only when $i = j$, therefore $i \\le j$."
   ]
  },
  {
   "cell_type": "markdown",
   "metadata": {},
   "source": [
    "> __*d*__. Here is a description of a divide-and-conquer algorithm that computes the leftmost minimum element in each row of an $m \\times n$ Monge array $A$:\n",
    "\n",
    "> > Construct a submatrix $A'$ of $A$ consisting of the even-numbered rows of $A$. Recursively determine the leftmost minimum for each row of $A$. Then compute the leftmost minimum in the odd-numbered rows of $A$.\n",
    "\n",
    "> Explain how to compute the leftmost minimum in the odd-numbered rows of $A$ (given that the leftmost minimum of the even-numbered rows is known) in $O(m+n)$ time."
   ]
  },
  {
   "cell_type": "markdown",
   "metadata": {},
   "source": [
    "Search in the interval $[f(i-1), f(i+1)]$.\n",
    "\n",
    "$c_1m/2 + c_2n = O(m+n)$"
   ]
  },
  {
   "cell_type": "markdown",
   "metadata": {},
   "source": [
    "> __*e*__. Write the recurrence describing the running time of the algorithm described in part (d). Show that its solution is $O(m+n\\log m)$."
   ]
  },
  {
   "cell_type": "markdown",
   "metadata": {},
   "source": [
    "$$\n",
    "\\begin{array}{rll}\n",
    "T(m,n)&=&\\displaystyle T(m/2,n) + m + n \\\\\n",
    "&=&\\displaystyle \\sum_{i=0}^{\\lg m - 1}(\\frac{m}{2^i} + n) \\\\\n",
    "&=&\\displaystyle \\sum_{i=0}^{\\lg m - 1}(\\frac{m}{2^i} + n) \\\\\n",
    "&=&\\displaystyle \\frac{1}{1-1/2}m + n \\lg m \\\\\n",
    "&=&\\displaystyle 2m + n \\lg m \\\\\n",
    "&=&\\displaystyle O(m+n\\log m) \\\\\n",
    "\\end{array}\n",
    "$$"
   ]
  },
  {
   "cell_type": "code",
   "execution_count": 2,
   "metadata": {},
   "outputs": [],
   "source": [
    "def get_min_index(arr):\n",
    "    def get_min_index_rec(idx):\n",
    "        if len(idx) == 1:\n",
    "            min_idx = 0\n",
    "            for j in range(1, len(arr[0])):\n",
    "                if arr[idx[0]][j] < arr[idx[0]][min_idx]:\n",
    "                    min_idx = j\n",
    "            return [min_idx]\n",
    "        sub_idx = [idx[i] for i in range(len(idx)) if i % 2 == 0]\n",
    "        sub_min_idx = get_min_index_rec(sub_idx)\n",
    "        sub_min_idx.append(len(arr[0]) - 1)\n",
    "        min_idx = [sub_min_idx[i//2] for i in range(len(idx))]\n",
    "        for i in range(1, len(idx), 2):\n",
    "            for j in range(sub_min_idx[i//2] + 1, sub_min_idx[i//2 + 1] + 1):\n",
    "                if arr[idx[i]][j] < arr[idx[i]][min_idx[i]]:\n",
    "                    min_idx[i] = j\n",
    "        return min_idx\n",
    "    return get_min_index_rec([i for i in range(len(arr))])"
   ]
  }
 ],
 "metadata": {
  "kernelspec": {
   "display_name": "Python 3",
   "language": "python",
   "name": "python3"
  },
  "language_info": {
   "codemirror_mode": {
    "name": "ipython",
    "version": 3
   },
   "file_extension": ".py",
   "mimetype": "text/x-python",
   "name": "python",
   "nbconvert_exporter": "python",
   "pygments_lexer": "ipython3",
   "version": "3.6.4"
  }
 },
 "nbformat": 4,
 "nbformat_minor": 2
}
