{
 "cells": [
  {
   "cell_type": "markdown",
   "metadata": {},
   "source": [
    "## Problems"
   ]
  },
  {
   "cell_type": "markdown",
   "metadata": {},
   "source": [
    "### 6-1 Building a heap using insertion\n",
    "\n",
    "> We can build a heap by repeatedly calling MAX-HEAP-INSERT to insert the elements into the heap. Consider the following variation on the BUILD-MAX-HEAP procedure:\n",
    "\n",
    "> ```\n",
    "BUILD-MAX-HEAP'(A)\n",
    "1 A.heap-size = 1\n",
    "2 for i = 2 to A.length\n",
    "3     MAX-HEAP-INSERT(A, A[i])\n",
    "```"
   ]
  },
  {
   "cell_type": "markdown",
   "metadata": {},
   "source": [
    "> __*a*__. Do the procedures BUILD-MAX-HEAP and BUILD-MAX-HEAP' always create the same heap when run on the same input array? Prove that they do, or provide a counterexample."
   ]
  },
  {
   "cell_type": "markdown",
   "metadata": {},
   "source": [
    "No. \n",
    "\n",
    "For $\\left \\langle 1, 2, 3, 4, 5, 6\\right \\rangle$, \n",
    "\n",
    "BUILD-MAX-HEAP: $\\left \\langle 6,4,5,1,3,2 \\right \\rangle$;\n",
    "\n",
    "![](img/6-1_1.png)\n",
    "\n",
    "BUILD-MAX-HEAP': $\\left \\langle 6,5,3,4,2,1 \\right \\rangle$.\n",
    "\n",
    "![](img/6-1_2.png)"
   ]
  },
  {
   "cell_type": "markdown",
   "metadata": {},
   "source": [
    "> __*b*__. Show that in the worst case, BUILD-MAX-HEAP' requires $\\Theta(n\\lg n)$ time to build an n-element heap."
   ]
  },
  {
   "cell_type": "markdown",
   "metadata": {},
   "source": [
    "MAX-HEAP-INSERT is $\\Theta(\\lg n)$, thus BUILD-MAX-HEAP' is $\\Theta(n \\lg n)$."
   ]
  },
  {
   "cell_type": "markdown",
   "metadata": {},
   "source": [
    "### 6-2 Analysis of $d$-ary heaps"
   ]
  },
  {
   "cell_type": "markdown",
   "metadata": {},
   "source": [
    "> A $d$-ary heap is like a binary heap, but (with one possible exception) non-leaf nodes have $d$ children instead of $2$ children."
   ]
  },
  {
   "cell_type": "markdown",
   "metadata": {},
   "source": [
    "> __*a*__. How would you represent a $d$-ary heap in an array?"
   ]
  },
  {
   "cell_type": "markdown",
   "metadata": {},
   "source": [
    "If the index of the array begins with 0, then the $k$th children of node $i$ is $id+k$. The parent of node $i$ is $\\displaystyle \\left \\lfloor \\frac{i - 1}{d} \\right \\rfloor$.\n",
    "\n",
    "Thus if the index begins with 1, the $k$th children is $(i-1)d+k+1$, the parent is $\\displaystyle \\left \\lfloor \\frac{i-2}{d} \\right \\rfloor + 1$."
   ]
  },
  {
   "cell_type": "markdown",
   "metadata": {},
   "source": [
    "> __*b*__. What is the height of a $d$-ary heap of $n$ elements in terms of $n$ and $d$?"
   ]
  },
  {
   "cell_type": "markdown",
   "metadata": {},
   "source": [
    "$\\log_dn$"
   ]
  },
  {
   "cell_type": "markdown",
   "metadata": {},
   "source": [
    "> __*c*__. Give an efficient implementation of EXTRACT-MAX in a $d$-ary max-heap. Analyze its running time in terms of $d$ and $n$."
   ]
  },
  {
   "cell_type": "markdown",
   "metadata": {},
   "source": [
    "$\\Theta(d \\log_dn)$"
   ]
  },
  {
   "cell_type": "code",
   "execution_count": 1,
   "metadata": {},
   "outputs": [],
   "source": [
    "def parent(d, i):\n",
    "    return (i - 1) / d\n",
    "\n",
    "\n",
    "def child(d, i, k):\n",
    "    return (i * d) + k\n",
    "\n",
    "\n",
    "def max_heapify(d, a, i):\n",
    "    max_idx = i\n",
    "    for k in range(1, d + 1):\n",
    "        c = child(d, i, k)\n",
    "        if c < len(a) and a[c] > a[max_idx]:\n",
    "            max_idx = c\n",
    "    if max_idx != i:\n",
    "        a[i], a[max_idx] = a[max_idx], a[i]\n",
    "        max_heapify(d, a, max_idx)\n",
    "\n",
    "\n",
    "def extract_max(d, a):\n",
    "    assert(len(a) > 0)\n",
    "    val = a[0]\n",
    "    a[0] = a[-1]\n",
    "    del a[-1]\n",
    "    max_heapify(d, a, 0)\n",
    "    return val"
   ]
  },
  {
   "cell_type": "markdown",
   "metadata": {},
   "source": [
    "> __*d*__. Give an efficient implementation of INSERT in a $d$-ary max-heap. Analyze its running time in terms of $d$ and $n$."
   ]
  },
  {
   "cell_type": "markdown",
   "metadata": {},
   "source": [
    "$\\Theta(\\log_dn)$"
   ]
  },
  {
   "cell_type": "code",
   "execution_count": 2,
   "metadata": {},
   "outputs": [],
   "source": [
    "def increase_key(d, a, i, key):\n",
    "    assert(key >= a[i])\n",
    "    while i > 0 and key > a[parent(d, i)]:\n",
    "        a[i] = a[parent(d, i)]\n",
    "        i = parent(d, i)\n",
    "    a[i] = key\n",
    "\n",
    "\n",
    "def insert(d, a, key):\n",
    "    a.append(-1e100)\n",
    "    increase_key(d, a, len(a) - 1, key)"
   ]
  },
  {
   "cell_type": "markdown",
   "metadata": {},
   "source": [
    "> __*e*__. Give an efficient implementation of INCREASE-KEY$(A, i, k)$, which flags an error if $k < A[i]$, but otherwise sets $A[i] = k$ and then updates the $d$-ary maxheap structure appropriately. Analyze its running time in terms of $d$ and $n$."
   ]
  },
  {
   "cell_type": "markdown",
   "metadata": {},
   "source": [
    "$\\Theta(\\log_dn)$"
   ]
  },
  {
   "cell_type": "code",
   "execution_count": 3,
   "metadata": {},
   "outputs": [],
   "source": [
    "def increase_key(d, a, i, key):\n",
    "    assert(key >= a[i])\n",
    "    while i > 0 and key > a[parent(d, i)]:\n",
    "        a[i] = a[parent(d, i)]\n",
    "        i = parent(d, i)\n",
    "    a[i] = key"
   ]
  },
  {
   "cell_type": "markdown",
   "metadata": {},
   "source": [
    "### 6-3 Young tableaus\n",
    "\n",
    "> An $m \\times n$ __*Young tableau*__ is an $m \\times n$ matrix such that the entries of each row are in sorted order from left to right and the entries of each column are in sorted order from top to bottom. Some of the entries of a Young tableau may be $\\infty$, which we treat as nonexistent elements. Thus, a Young tableau can be used to hold $r \\le mn$ finite numbers."
   ]
  },
  {
   "cell_type": "markdown",
   "metadata": {},
   "source": [
    "> __*a*__. Draw a $4\\times4$ Young tableau containing the elements $\\left \\{ 9, 16, 3, 2, 4, 8, 5, 14, 12\\right \\}$."
   ]
  },
  {
   "cell_type": "markdown",
   "metadata": {},
   "source": [
    "$$\n",
    "\\begin{matrix}\n",
    "2 & 3 & 4 & 5 \\\\\n",
    "8 & 9 & 12 & 14 \\\\\n",
    "16 & \\infty & \\infty & \\infty \\\\\n",
    "\\infty & \\infty & \\infty & \\infty \\\\\n",
    "\\end{matrix}\n",
    "$$"
   ]
  },
  {
   "cell_type": "markdown",
   "metadata": {},
   "source": [
    "> __*b*__. Argue that an $m \\times n$ Young tableau $Y$ is empty if $Y[1, 1] = \\infty$. Argue that $Y$ is full (contains $mn$ elements) if $Y[m,n] < \\infty$."
   ]
  },
  {
   "cell_type": "markdown",
   "metadata": {},
   "source": [
    "Transitive."
   ]
  },
  {
   "cell_type": "markdown",
   "metadata": {},
   "source": [
    "> __*c*__. Give an algorithm to implement EXTRACT-MIN on a nonempty $m \\times n$ Young tableau that runs in $O(m+n)$ time. Your algorithm should use a recursive subroutine that solves an $m \\times n$ problem by recursively solving either an $(m-1) \\times n$ or an $m \\times (n - 1)$ subproblem. Define $T(p)$, where $p=m+n$, to be the maximum running time of EXTRACT-MIN on any $m \\times n$ Young tableau. Give and solve a recurrence for $T(p)$ that yields the $O(m + n)$ time bound."
   ]
  },
  {
   "cell_type": "code",
   "execution_count": 4,
   "metadata": {},
   "outputs": [],
   "source": [
    "def extract_min(a):\n",
    "    m, n = len(a), len(a[0])\n",
    "    val = a[0][0]\n",
    "    a[0][0] = 1e8\n",
    "\n",
    "    def maintain(i, j):\n",
    "        min_i, min_j = i, j\n",
    "        if i + 1 < m and a[i + 1][j] < a[min_i][min_j]:\n",
    "            min_i, min_j = i + 1, j\n",
    "        if j + 1 < n and a[i][j + 1] < a[min_i][min_j]:\n",
    "            min_i, min_j = i, j + 1\n",
    "        if min_i != i or min_j != j:\n",
    "            a[i][j], a[min_i][min_j] = a[min_i][min_j], a[i][j]\n",
    "            maintain(min_i, min_j)\n",
    "\n",
    "    maintain(0, 0)\n",
    "    return val"
   ]
  },
  {
   "cell_type": "markdown",
   "metadata": {},
   "source": [
    "$$\n",
    "T(n) = T(n - 1) + O(1)\n",
    "$$"
   ]
  },
  {
   "cell_type": "markdown",
   "metadata": {},
   "source": [
    "> __*d*__. Show how to insert a new element into a nonfull $m \\times n$ Young tableau in $O(m + n)$ time."
   ]
  },
  {
   "cell_type": "code",
   "execution_count": 5,
   "metadata": {},
   "outputs": [],
   "source": [
    "def insert(a, val):\n",
    "    m, n = len(a), len(a[0])\n",
    "    a[m - 1][n - 1] = val\n",
    "\n",
    "    def maintain(i, j):\n",
    "        max_i, max_j = i, j\n",
    "        if i - 1 >= 0 and a[i - 1][j] > a[max_i][max_j]:\n",
    "            max_i, max_j = i - 1, j\n",
    "        if j - 1 >= 0 and a[i][j - 1] > a[max_i][max_j]:\n",
    "            max_i, max_j = i, j - 1\n",
    "        if max_i != i or max_j != j:\n",
    "            a[i][j], a[max_i][max_j] = a[max_i][max_j], a[i][j]\n",
    "            maintain(max_i, max_j)\n",
    "\n",
    "    maintain(m - 1, n - 1)"
   ]
  },
  {
   "cell_type": "markdown",
   "metadata": {},
   "source": [
    "> __*e*__. Using no other sorting method as a subroutine, show how to use an $n \\times n$ Young tableau to sort $n^2$ numbers in $O(n^3)$ time."
   ]
  },
  {
   "cell_type": "code",
   "execution_count": 6,
   "metadata": {},
   "outputs": [],
   "source": [
    "def sort_elements(a):\n",
    "    m = len(a)\n",
    "    n = int(math.ceil(math.sqrt(m)))\n",
    "    y = [[1e8 for _ in range(n)] for _ in range(n)]\n",
    "    for val in a:\n",
    "        insert(y, val)\n",
    "    a = []\n",
    "    for _ in range(m):\n",
    "        a.append(extract_min(y))\n",
    "    return a"
   ]
  },
  {
   "cell_type": "markdown",
   "metadata": {},
   "source": [
    "INSERT and EXTRACT-MIN are $O(n)$, there are $n^2$ elements, therefore the result is $O(n^3)$."
   ]
  },
  {
   "cell_type": "markdown",
   "metadata": {},
   "source": [
    "> __*f*__. Give an $O(m + n)$-time algorithm to determine whether a given number is stored in a given $m \\times n$ Young tableau."
   ]
  },
  {
   "cell_type": "code",
   "execution_count": 7,
   "metadata": {},
   "outputs": [],
   "source": [
    "def find(a, val):\n",
    "    m, n = len(a), len(a[0])\n",
    "    i, j = 0, n - 1\n",
    "    while i < m and j >= 0:\n",
    "        if a[i][j] == val:\n",
    "            return i, j\n",
    "        elif a[i][j] > val:\n",
    "            j -= 1\n",
    "        else:\n",
    "            i += 1\n",
    "    return -1, -1"
   ]
  }
 ],
 "metadata": {
  "kernelspec": {
   "display_name": "Python 3",
   "language": "python",
   "name": "python3"
  },
  "language_info": {
   "codemirror_mode": {
    "name": "ipython",
    "version": 3
   },
   "file_extension": ".py",
   "mimetype": "text/x-python",
   "name": "python",
   "nbconvert_exporter": "python",
   "pygments_lexer": "ipython3",
   "version": "3.6.4"
  }
 },
 "nbformat": 4,
 "nbformat_minor": 2
}
