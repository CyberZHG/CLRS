{
 "cells": [
  {
   "cell_type": "markdown",
   "metadata": {},
   "source": [
    "## 9.3 Selection in worst-case linear time"
   ]
  },
  {
   "cell_type": "markdown",
   "metadata": {},
   "source": [
    "### 9.3-1\n",
    "\n",
    "> In the algorithm SELECT, the input elements are divided into groups of 5. Will the algorithm work in linear time if they are divided into groups of 7? Argue that SELECT does not run in linear time if groups of 3 are used."
   ]
  },
  {
   "cell_type": "markdown",
   "metadata": {},
   "source": [
    "Suppose the input elements are divided into $7$ groups, then\n",
    "\n",
    "$$\n",
    "4 \\left (\\left \\lceil \\frac{1}{2} \\left \\lceil \\frac{n}{7} \\right \\rceil \\right \\rceil - 2 \\right ) \\ge \\frac{2n}{7} - 8\n",
    "$$\n",
    "\n",
    "$$\n",
    "T(n) = T(\\lceil n / 7 \\rceil) + T(5n/7 + 8) + O(n)\n",
    "$$\n",
    "\n",
    "Suppose $T(n) \\le cn$,\n",
    "\n",
    "$$\n",
    "\\begin{array}{rll}\n",
    "T(n) &\\le& cn/7 + c + 8c + 5cn/7 + an \\\\\n",
    "&=& 6cn / 7 + 9c + an \\\\\n",
    "&=& cn + (-cn/7+9c+an) \\\\\n",
    "&\\le& cn\n",
    "\\end{array}\n",
    "$$\n",
    "\n",
    "Suppose the input elements are divided into $3$ groups, then\n",
    "\n",
    "$$\n",
    "2 \\left (\\left \\lceil \\frac{1}{2} \\left \\lceil \\frac{n}{3} \\right \\rceil \\right \\rceil - 2 \\right ) \\ge \\frac{n}{3} - 4\n",
    "$$\n",
    "\n",
    "$$\n",
    "T(n) = T(\\lceil n / 3 \\rceil) + T(2n/3 + 4) + O(n)\n",
    "$$\n",
    "\n",
    "Suppose $T(n)\\ge cn$,\n",
    "\n",
    "$$\n",
    "\\begin{array}{rll}\n",
    "T(n) &\\ge& cn/3 + c + 4c + 2cn/3 + an \\\\\n",
    "&=& cn + 5c + an \\\\\n",
    "&>& cn \\\\\n",
    "\\end{array}\n",
    "$$\n",
    "\n",
    "Therefore SELECT does not run in linear time if groups of 3 are used."
   ]
  },
  {
   "cell_type": "markdown",
   "metadata": {},
   "source": [
    "### 9.3-2\n",
    "\n",
    "> Analyze SELECT to show that if $n \\ge 140$, then at least $\\lceil n/4 \\rceil$ elements are greater than the median-of-medians $x$ and at least $\\lceil n/4 \\rceil$ elements are less than $x$."
   ]
  },
  {
   "cell_type": "markdown",
   "metadata": {},
   "source": [
    "$$\n",
    "\\begin{array}{rll}\n",
    "\\displaystyle \\frac{3n}{10} - 6 &\\ge& \\displaystyle \\left \\lceil \\frac{n}{4} \\right \\rceil \\\\\n",
    "\\displaystyle \\frac{3n}{10} - 6 &\\ge& \\displaystyle \\frac{n}{4} + 1 \\\\\n",
    "12n - 240 &\\ge& 10n + 40 \\\\\n",
    "n &\\ge& 140 \\\\\n",
    "\\end{array}\n",
    "$$"
   ]
  },
  {
   "cell_type": "markdown",
   "metadata": {},
   "source": [
    "### 9.3-3\n",
    "\n",
    "> Show how quicksort can be made to run in $O(n \\lg n)$ time in the worst case, assuming that all elements are distinct."
   ]
  },
  {
   "cell_type": "markdown",
   "metadata": {},
   "source": [
    "Use median as pivot, since we can find median in $O(n)$, and based on Problem 7-2 (b), we have $T(n)=T(n/2)+O(n)$."
   ]
  },
  {
   "cell_type": "markdown",
   "metadata": {},
   "source": [
    "### 9.3-4 $\\star$\n",
    "\n",
    "> Suppose that an algorithm uses only comparisons to find the $i$th smallest element in a set of $n$ elements. Show that it can also find the $i - 1$ smaller elements and $n-i$ larger elements without performing additional comparisons."
   ]
  },
  {
   "cell_type": "markdown",
   "metadata": {},
   "source": [
    "$\\dots$"
   ]
  },
  {
   "cell_type": "markdown",
   "metadata": {},
   "source": [
    "### 9.3-5\n",
    "\n",
    "> Suppose that you have a \"black-box\" worst-case linear-time median subroutine. Give a simple, linear-time algorithm that solves the selection problem for an arbitrary order statistic."
   ]
  },
  {
   "cell_type": "code",
   "execution_count": 1,
   "metadata": {},
   "outputs": [],
   "source": [
    "def black_box_median(a, p, r):\n",
    "    return sorted(a)[(p + r) // 2]\n",
    "\n",
    "\n",
    "def partition(a, p, r, x):\n",
    "    i = p - 1\n",
    "    for k in range(p, r - 1):\n",
    "        if a[k] == x:\n",
    "            a[k], a[r - 1] = a[r - 1], a[k]\n",
    "            break\n",
    "    for k in range(p, r - 1):\n",
    "        if a[k] < x:\n",
    "            i += 1\n",
    "            a[i], a[k] = a[k], a[i]\n",
    "    i += 1\n",
    "    a[i], a[r - 1] = a[r - 1], a[i]\n",
    "    return i\n",
    "\n",
    "\n",
    "def select(a, p, r, i):\n",
    "    if p + 1 == r:\n",
    "        return a[p]\n",
    "    x = black_box_median(a, p, r)\n",
    "    q = partition(a, p, r, x)\n",
    "    k = q - p + 1\n",
    "    if i == k:\n",
    "        return a[q]\n",
    "    if i < k:\n",
    "        return select(a, p, q, i)\n",
    "    return select(a, q + 1, r, i - k)"
   ]
  },
  {
   "cell_type": "markdown",
   "metadata": {},
   "source": [
    "### 9.3-6\n",
    "\n",
    "> The $k$th __*quantiles*__ of an $n$-element set are the $k - 1$ order statistics that divide the sorted set into $k$ equal-sized sets (to within 1). Give an $O(n \\lg k)$-time algorithm to list the $k$th quantiles of a set."
   ]
  },
  {
   "cell_type": "markdown",
   "metadata": {},
   "source": [
    "Pre-calculate the positions of the quantiles in $O(k)$, we use the $O(n)$ select algorithm to find the $\\lfloor k/2 \\rfloor$th position, after that the elements are divided into two sets by the pivot the $\\lfloor k/2 \\rfloor$th position, we do it recursively in the two sets to find other positions. Since the maximum depth is $\\lceil \\lg k \\rceil$, the total running time is $O(n \\lg k)$."
   ]
  },
  {
   "cell_type": "code",
   "execution_count": 2,
   "metadata": {},
   "outputs": [],
   "source": [
    "def partition(a, p, r):\n",
    "    x = a[r - 1]\n",
    "    i = p - 1\n",
    "    for k in range(p, r - 1):\n",
    "        if a[k] < x:\n",
    "            i += 1\n",
    "            a[i], a[k] = a[k], a[i]\n",
    "    i += 1\n",
    "    a[i], a[r - 1] = a[r - 1], a[i]\n",
    "    return i\n",
    "\n",
    "\n",
    "def randomized_partition(a, p, r):\n",
    "    x = random.randint(p, r - 1)\n",
    "    a[x], a[r - 1] = a[r - 1], a[x]\n",
    "    return partition(a, p, r)\n",
    "\n",
    "\n",
    "def randomized_select(a, p, r, i):\n",
    "    while True:\n",
    "        if p + 1 == r:\n",
    "            return p, a[p]\n",
    "        q = randomized_partition(a, p, r)\n",
    "        k = q - p + 1\n",
    "        if i == k:\n",
    "            return q, a[q]\n",
    "        if i < k:\n",
    "            r = q\n",
    "        else:\n",
    "            p = q + 1\n",
    "            i -= k\n",
    "\n",
    "\n",
    "def k_quantiles_sub(a, p, r, pos, f, e, quantiles):\n",
    "    if f + 1 > e:\n",
    "        return\n",
    "    mid = (f + e) // 2\n",
    "    q, val = randomized_select(a, p, r, pos[mid])\n",
    "    quantiles[mid] = val\n",
    "    k_quantiles_sub(a, p, q, pos, f, mid, quantiles)\n",
    "    k = q - p + 1\n",
    "    for i in xrange(mid + 1, e):\n",
    "        pos[i] -= k\n",
    "    k_quantiles_sub(a, q + 1, r, pos, mid + 1, e, quantiles)\n",
    "\n",
    "\n",
    "def k_quantiles(a, k):\n",
    "    num = len(a) / k\n",
    "    mod = len(a) % k\n",
    "    pos = [num for _ in xrange(k)]\n",
    "    for i in xrange(mod):\n",
    "        pos[i] += 1\n",
    "    for i in xrange(1, k):\n",
    "        pos[i] += pos[i - 1]\n",
    "    quantiles = [0 for _ in xrange(k)]\n",
    "    k_quantiles_sub(a, 0, len(a), pos, 0, len(pos), quantiles)\n",
    "    return quantiles"
   ]
  },
  {
   "cell_type": "markdown",
   "metadata": {},
   "source": [
    "### 9.3-7\n",
    "\n",
    "> Describe an $O(n)$-time algorithm that, given a set $S$ of $n$ distinct numbers and a positive integer $k \\le n$, determines the $k$ numbers in $S$ that are closest to the median of $S$."
   ]
  },
  {
   "cell_type": "markdown",
   "metadata": {},
   "source": [
    "Find the median in $O(n)$; create a new array, each element is the absolute value of the original value subtract the median; find the $k$th smallest number in $O(n)$,  then the desired values are the elements whose absolute difference with the median is less than or equal to the $k$th smallest number in the new array."
   ]
  },
  {
   "cell_type": "code",
   "execution_count": 3,
   "metadata": {},
   "outputs": [],
   "source": [
    "def black_box_kth(a, k):\n",
    "    return sorted(a)[k-1]\n",
    "\n",
    "\n",
    "def black_box_median(a):\n",
    "    return sorted(a)[(len(a) - 1) // 2]\n",
    "\n",
    "\n",
    "def k_closest(a, k):\n",
    "    median = black_box_median(a)\n",
    "    b = [abs(a[i] - median) for i in xrange(len(a))]\n",
    "    kth = black_box_kth(b, k)\n",
    "    closest = []\n",
    "    for i in xrange(len(a)):\n",
    "        if abs(a[i] - median) < kth:\n",
    "            closest.append(a[i])\n",
    "    for i in xrange(len(a)):\n",
    "        if abs(a[i] - median) == kth:\n",
    "            closest.append(a[i])\n",
    "        if len(closest) >= k:\n",
    "            break\n",
    "    return closest"
   ]
  },
  {
   "cell_type": "markdown",
   "metadata": {},
   "source": [
    "### 9.3-8\n",
    "\n",
    "> Let $X[1\\dots n]$ and $Y[1\\dots n]$ be two arrays, each containing $n$ numbers already in sorted order. Give an $O(\\lg n)$-time algorithm to find the median of all $2n$ elements in arrays $X$ and $Y$."
   ]
  },
  {
   "cell_type": "markdown",
   "metadata": {},
   "source": [
    "We can find the median in $O(1)$ time in a sorted array, compare the medians of the two array, if the median of $X$ is less than the median of $Y$, then we know the median must located in the right side of $X$ or left side of $Y$. Do it recursively, when there is only one element left in each array, the smaller one is the median."
   ]
  },
  {
   "cell_type": "code",
   "execution_count": 4,
   "metadata": {},
   "outputs": [],
   "source": [
    "def median_of_two(a, b):\n",
    "    if len(a) == 1:\n",
    "        return min(a[0], b[0])\n",
    "    mid = (len(a) - 1) // 2\n",
    "    k = mid + 1\n",
    "    if a[mid] <= b[mid]:\n",
    "        return median_of_two(a[-k:], b[:k])\n",
    "    return median_of_two(a[:k], b[-k:])"
   ]
  },
  {
   "cell_type": "markdown",
   "metadata": {},
   "source": [
    "### 9.3-9\n",
    "\n",
    "> Professor Olay is consulting for an oil company, which is planning a large pipeline running east to west through an oil field of $n$ wells. The company wants to connect a spur pipeline from each well directly to the main pipeline along a shortest route (either north or south), as shown in Figure 9.2. Given the $x$- and $y$-coordinates of the wells, how should the professor pick the optimal location of the main pipeline,\n",
    "which would be the one that minimizes the total length of the spurs? Show how to determine the optimal location in linear time."
   ]
  },
  {
   "cell_type": "markdown",
   "metadata": {},
   "source": [
    "Find the median of $y$. Suppose $n$ is odd, if we move the main pipeline slightly, then the total distance will be increased by $(n+1)/2 \\cdot d$ for one side and decreased by $(n-1)/2\\cdot d$ for the other side, thus the total distance is increased by $d$."
   ]
  }
 ],
 "metadata": {
  "kernelspec": {
   "display_name": "Python 3",
   "language": "python",
   "name": "python3"
  },
  "language_info": {
   "codemirror_mode": {
    "name": "ipython",
    "version": 3
   },
   "file_extension": ".py",
   "mimetype": "text/x-python",
   "name": "python",
   "nbconvert_exporter": "python",
   "pygments_lexer": "ipython3",
   "version": "3.6.4"
  }
 },
 "nbformat": 4,
 "nbformat_minor": 2
}
