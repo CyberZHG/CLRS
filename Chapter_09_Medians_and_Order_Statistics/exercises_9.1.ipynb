{
 "cells": [
  {
   "cell_type": "markdown",
   "metadata": {},
   "source": [
    "## 9.1 Minimum and maximum"
   ]
  },
  {
   "cell_type": "markdown",
   "metadata": {},
   "source": [
    "### 9.1-1\n",
    "\n",
    "> Show that the second smallest of $n$ elements can be found with $n +  \\lceil \\lg n\\rceil - 2$ comparisons in the worst case."
   ]
  },
  {
   "cell_type": "markdown",
   "metadata": {},
   "source": [
    "Divide the elements into the leaves of a binary tree. In each node, we compare the minimum values of its two sub-trees, then in the root node we know which is the smallest element using $n-1$ comparisons. Since only the smallest element is less than the second smallest element, the two elements must have been compared in order to knock out the second smallest element when finding the minimum. In other words, the second smallest number must have been appeared as the opponent in the path to the leaf which has the smallest element. The depth of the tree is $\\lceil \\lg n\\rceil$, thus we need $\\lceil \\lg n\\rceil - 1$ comparisons to find the second smallest element."
   ]
  },
  {
   "cell_type": "code",
   "execution_count": 1,
   "metadata": {},
   "outputs": [],
   "source": [
    "def find_second_smallest(a, l, r):\n",
    "    if l + 1 == r:\n",
    "        return a[l], []\n",
    "    mid = (l + r + 1) // 2\n",
    "    min_l, lst_l = find_second_smallest(a, l, mid)\n",
    "    min_r, lst_r = find_second_smallest(a, mid, r)\n",
    "    if min_l <= min_r:\n",
    "        min_val, lst = min_l, lst_l + [min_r]\n",
    "    else:\n",
    "        min_val, lst = min_r, lst_r + [min_l]\n",
    "    if l == 0 and r == len(a):\n",
    "        idx = 0\n",
    "        for i in range(1, len(lst)):\n",
    "            if lst[i] < lst[idx]:\n",
    "                idx = i\n",
    "        return lst[idx]\n",
    "    return min_val, lst"
   ]
  },
  {
   "cell_type": "markdown",
   "metadata": {},
   "source": [
    "### 9.1-2 $\\star$\n",
    "\n",
    "> Prove the lower bound of $\\lceil 3n/2 \\rceil - 2$ comparisons in the worst case to find both the maximum and minimum of $n$ numbers."
   ]
  },
  {
   "cell_type": "markdown",
   "metadata": {},
   "source": [
    "If $n$ is odd, there are\n",
    "\n",
    "$$\n",
    "1 + \\frac{3(n-3)}{2} + 2 = \\frac{3n}{2} - \\frac{3}{2} = \\left ( \\left \\lceil \\frac{3n}{2} \\right \\rceil - \\frac{1}{2} \\right ) - \\frac{3}{2} = \\left \\lceil \\frac{3n}{2} \\right \\rceil - 2\n",
    "$$\n",
    "\n",
    "comparisons.\n",
    "\n",
    "If $n$ is even, there are\n",
    "\n",
    "$$\n",
    "1 + \\frac{3(n-2)}{2} = \\frac{3n}{2} - 2 = \\left \\lceil \\frac{3n}{2} \\right \\rceil - 2\n",
    "$$\n",
    "\n",
    "comparisons."
   ]
  }
 ],
 "metadata": {
  "kernelspec": {
   "display_name": "Python 3",
   "language": "python",
   "name": "python3"
  },
  "language_info": {
   "codemirror_mode": {
    "name": "ipython",
    "version": 3
   },
   "file_extension": ".py",
   "mimetype": "text/x-python",
   "name": "python",
   "nbconvert_exporter": "python",
   "pygments_lexer": "ipython3",
   "version": "3.6.4"
  }
 },
 "nbformat": 4,
 "nbformat_minor": 2
}
