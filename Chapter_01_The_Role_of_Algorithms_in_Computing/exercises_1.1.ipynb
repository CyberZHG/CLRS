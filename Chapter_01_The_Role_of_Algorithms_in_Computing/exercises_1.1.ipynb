{
 "cells": [
  {
   "cell_type": "markdown",
   "metadata": {},
   "source": [
    "## 1.1 Algorithms"
   ]
  },
  {
   "cell_type": "markdown",
   "metadata": {},
   "source": [
    "### 1.1-1\n",
    "\n",
    "> Give a real-world example that requires sorting or a real-world example that requires computing convex hull."
   ]
  },
  {
   "cell_type": "markdown",
   "metadata": {},
   "source": [
    "* Sorting: browser the games with ascending prices on Steam.\n",
    "* Convex hull: computing the diameter of set of points."
   ]
  },
  {
   "cell_type": "markdown",
   "metadata": {},
   "source": [
    "### 1.1-2\n",
    "\n",
    "> Other than speed, what other measures of efficiency might one use in a real-world setting?"
   ]
  },
  {
   "cell_type": "markdown",
   "metadata": {},
   "source": [
    "Memory efficiency and coding efficiency."
   ]
  },
  {
   "cell_type": "markdown",
   "metadata": {},
   "source": [
    "### 1.1-3\n",
    "\n",
    "> Select a data structure that you have seen previously, and discuss its strengths and limitations."
   ]
  },
  {
   "cell_type": "markdown",
   "metadata": {},
   "source": [
    "Linked-List:\n",
    "* Strengths: insertion and deletion.\n",
    "* Limitations: random access."
   ]
  },
  {
   "cell_type": "markdown",
   "metadata": {},
   "source": [
    "### 1.1-4\n",
    "\n",
    "> How are the shortest-path and traveling-salesman problems given above similar? How are they different?"
   ]
  },
  {
   "cell_type": "markdown",
   "metadata": {},
   "source": [
    "* Similar: finding path with shortest distance.\n",
    "* Different: traveling-salesman has more constrains."
   ]
  },
  {
   "cell_type": "markdown",
   "metadata": {},
   "source": [
    "### 1.1-5\n",
    "\n",
    "> Come up with a real-word problem in which only the best solution will do. Then come up with one in which a solution that is \"approximately\" the best is good enough."
   ]
  },
  {
   "cell_type": "markdown",
   "metadata": {},
   "source": [
    "* Best: find the GCD of two positive integer numbers.\n",
    "* Approximately: find the solution of differential equations."
   ]
  }
 ],
 "metadata": {
  "kernelspec": {
   "display_name": "Python 3",
   "language": "python",
   "name": "python3"
  },
  "language_info": {
   "codemirror_mode": {
    "name": "ipython",
    "version": 3
   },
   "file_extension": ".py",
   "mimetype": "text/x-python",
   "name": "python",
   "nbconvert_exporter": "python",
   "pygments_lexer": "ipython3",
   "version": "3.6.3"
  }
 },
 "nbformat": 4,
 "nbformat_minor": 2
}
