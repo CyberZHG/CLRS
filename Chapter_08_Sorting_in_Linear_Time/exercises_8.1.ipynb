{
 "cells": [
  {
   "cell_type": "markdown",
   "metadata": {},
   "source": [
    "## 8.1 Lower bounds for sorting"
   ]
  },
  {
   "cell_type": "markdown",
   "metadata": {},
   "source": [
    "### 8.1-1\n",
    "\n",
    "> What is the smallest possible depth of a leaf in a decision tree for a comparison sort?"
   ]
  },
  {
   "cell_type": "markdown",
   "metadata": {},
   "source": [
    "For a permutation $a_1 \\le a_2 \\le \\dots \\le a_n$, there are $n-1$ pairs of relative ordering, thus the smallest possible depth is $n-1$."
   ]
  },
  {
   "cell_type": "markdown",
   "metadata": {},
   "source": [
    "### 8.1-2\n",
    "\n",
    "> Obtain asymptotically tight bounds on $\\lg(n!)$ without using Stirling’s approximation. Instead, evaluate the summation $\\sum_{k=1}^n\\lg k$ using techniques from Section A.2."
   ]
  },
  {
   "cell_type": "markdown",
   "metadata": {},
   "source": [
    "$$\n",
    "\\begin{array}{rll}\n",
    "\\displaystyle \\sum_{k=1}^n\\lg k &\\le& \\displaystyle \\sum_{k=1}^n\\lg n \\\\\n",
    "&=& n\\lg n\n",
    "\\end{array}\n",
    "$$\n",
    "\n",
    "$$\n",
    "\\begin{array}{rll}\n",
    "\\displaystyle \\sum_{k=1}^n\\lg k &=& \\displaystyle \\sum_{k=2}^{n/2}\\lg k + \\sum_{k=n/2}^n\\lg k \\\\\n",
    "&\\ge& \\displaystyle \\sum_{k=1}^{n/2}1 + \\sum_{k=n/2}^n\\lg n/2 \\\\\n",
    "&=& \\displaystyle \\frac{n}{2} + \\frac{n}{2}(\\lg n - 1) \\\\\n",
    "&=& \\displaystyle \\frac{n}{2}\\lg n \\\\\n",
    "\\end{array}\n",
    "$$"
   ]
  },
  {
   "cell_type": "markdown",
   "metadata": {},
   "source": [
    "### 8.1-3\n",
    "\n",
    "> Show that there is no comparison sort whose running time is linear for at least half of the $n!$ inputs of length $n$. What about a fraction of $1/n$ of the inputs of length $n$? What about a fraction $1/2^n$?"
   ]
  },
  {
   "cell_type": "markdown",
   "metadata": {},
   "source": [
    "$$\n",
    "\\begin{array}{rll}\n",
    "\\displaystyle \\frac{n!}{2} &\\le& 2^h \\\\\n",
    "h &\\ge& \\displaystyle \\lg \\left (\\frac{n!}{2} \\right ) \\\\\n",
    "&=& (\\lg n!) - 1 \\\\\n",
    "&=& \\Omega(n \\lg n) - 1 \\\\\n",
    "&=& \\Omega(n \\lg n)\\\\\n",
    "\\end{array}\n",
    "$$\n",
    "\n",
    "$$\n",
    "\\begin{array}{rll}\n",
    "\\displaystyle \\frac{n!}{n} &\\le& 2^h \\\\\n",
    "h &\\ge& \\displaystyle \\lg \\left (\\frac{n!}{n} \\right ) \\\\\n",
    "&=& (\\lg n!) - \\lg n \\\\\n",
    "&=& \\Omega(n \\lg n) - \\lg n \\\\\n",
    "&=& \\Omega(n \\lg n)\\\\\n",
    "\\end{array}\n",
    "$$\n",
    "\n",
    "$$\n",
    "\\begin{array}{rll}\n",
    "\\displaystyle \\frac{n!}{2^n} &\\le& 2^h \\\\\n",
    "h &\\ge& \\displaystyle \\lg \\left (\\frac{n!}{2^n} \\right ) \\\\\n",
    "&=& (\\lg n!) - n \\\\\n",
    "&=& \\Omega(n \\lg n) - n \\\\\n",
    "&=& \\Omega(n \\lg n)\\\\\n",
    "\\end{array}\n",
    "$$\n",
    "\n",
    "All of them have the lower-bound $\\Omega(n \\lg n)$."
   ]
  },
  {
   "cell_type": "markdown",
   "metadata": {},
   "source": [
    "### 8.1-4\n",
    "\n",
    "> Suppose that you are given a sequence of $n$ elements to sort. The input sequence consists of $n/k$ subsequences, each containing $k$ elements. The elements in a given subsequence are all smaller than the elements in the succeeding subsequence and larger than the elements in the preceding subsequence. Thus, all that is needed to sort the whole sequence of length $n$ is to sort the $k$ elements in each of the $n/k$ subsequences. Show an $\\Omega(n\\lg k)$ lower bound on the number of comparisons needed to solve this variant of the sorting problem."
   ]
  },
  {
   "cell_type": "markdown",
   "metadata": {},
   "source": [
    "$$\n",
    "\\begin{array}{rll}\n",
    "(k!)^{n/k} &\\le& 2^h \\\\\n",
    "n / k \\lg(k!) &\\le& h \\\\\n",
    "kh/n &\\ge& \\lg(k!) \\\\\n",
    "kh/n &=& \\Omega(k \\lg k) \\\\\n",
    "h &=& \\Omega(n \\lg k) \\\\\n",
    "\\end{array}\n",
    "$$"
   ]
  }
 ],
 "metadata": {
  "kernelspec": {
   "display_name": "Python 3",
   "language": "python",
   "name": "python3"
  },
  "language_info": {
   "codemirror_mode": {
    "name": "ipython",
    "version": 3
   },
   "file_extension": ".py",
   "mimetype": "text/x-python",
   "name": "python",
   "nbconvert_exporter": "python",
   "pygments_lexer": "ipython3",
   "version": "3.6.4"
  }
 },
 "nbformat": 4,
 "nbformat_minor": 2
}
