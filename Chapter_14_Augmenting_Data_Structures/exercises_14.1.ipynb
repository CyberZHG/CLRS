{
 "cells": [
  {
   "cell_type": "markdown",
   "metadata": {},
   "source": [
    "## 14.1 Dynamic order statistics"
   ]
  },
  {
   "cell_type": "markdown",
   "metadata": {},
   "source": [
    "### 14.1-1\n",
    "\n",
    "> Show how OS-SELECT$(T.root, 10)$ operates on the red-black tree $T$ of Figure 14.1."
   ]
  },
  {
   "cell_type": "markdown",
   "metadata": {},
   "source": [
    "* 26: r = 13, i = 10, go left\n",
    "* 17: r = 8, i = 10, go right\n",
    "* 21: r = 3, i = 2, go left\n",
    "* 19: r = 1, i = 2, go right\n",
    "* 20: r = 1, i = 1, choose 20"
   ]
  },
  {
   "cell_type": "markdown",
   "metadata": {},
   "source": [
    "### 14.1-2\n",
    "\n",
    "> Show how OS-RANK$(T, x)$ operates on the red-black tree $T$ of Figure 14.1 and the node $x$ with $x.key = 35$."
   ]
  },
  {
   "cell_type": "markdown",
   "metadata": {},
   "source": [
    "* 35: r = 1\n",
    "* 38: r = 1\n",
    "* 30: r = r + 2 = 3\n",
    "* 41: r = 3\n",
    "* 26: r = r + 13 = 16"
   ]
  },
  {
   "cell_type": "markdown",
   "metadata": {},
   "source": [
    "### 14.1-3\n",
    "\n",
    "> Write a nonrecursive version of OS-SELECT."
   ]
  },
  {
   "cell_type": "code",
   "execution_count": 1,
   "metadata": {},
   "outputs": [],
   "source": [
    "class TreeNode:\n",
    "    def __init__(self, key, left=None, right=None):\n",
    "        self.key = key\n",
    "        self.size = 1\n",
    "        self.left = left\n",
    "        self.right = right\n",
    "        if left is not None:\n",
    "            self.size += left.size\n",
    "        if right is not None:\n",
    "            self.size += right.size\n",
    "\n",
    "\n",
    "def os_select(x, i):\n",
    "    while True:\n",
    "        if x.left is None:\n",
    "            r = 1\n",
    "        else:\n",
    "            r = x.left.size + 1\n",
    "        if i == r:\n",
    "            return x\n",
    "        elif i < r:\n",
    "            x = x.left\n",
    "        else:\n",
    "            x = x.right\n",
    "            i -= r"
   ]
  },
  {
   "cell_type": "markdown",
   "metadata": {},
   "source": [
    "### 14.1-4\n",
    "\n",
    "> Write a recursive procedure OS-KEY-RANK$(T, k)$ that takes as input an order-statistic tree $T$ and a key $k$ and returns the rank of $k$ in the dynamic set represented by $T$. Assume that the keys of $T$ are distinct."
   ]
  },
  {
   "cell_type": "code",
   "execution_count": 2,
   "metadata": {},
   "outputs": [],
   "source": [
    "class TreeNode:\n",
    "    def __init__(self, key, left=None, right=None):\n",
    "        self.key = key\n",
    "        self.size = 1\n",
    "        self.left = left\n",
    "        self.right = right\n",
    "        if left is not None:\n",
    "            self.size += left.size\n",
    "        if right is not None:\n",
    "            self.size += right.size\n",
    "\n",
    "\n",
    "def os_key_rank(x, k, i=0):\n",
    "    r = 1\n",
    "    if x.left is not None:\n",
    "        r += x.left.size\n",
    "    if k == x.key:\n",
    "        return i + r\n",
    "    if k < x.key:\n",
    "        return os_key_rank(x.left, k, i)\n",
    "    if k > x.key:\n",
    "        return os_key_rank(x.right, k, i + r)"
   ]
  },
  {
   "cell_type": "markdown",
   "metadata": {},
   "source": [
    "### 14.1-5\n",
    "\n",
    "> Given an element $x$ in an $n$-node order-statistic tree and a natural number $i$, how can we determine the $i$th successor of $x$ in the linear order of the tree in $O(\\lg n)$ time?"
   ]
  },
  {
   "cell_type": "markdown",
   "metadata": {},
   "source": [
    "OS-SELECT(T, OS-RANK(T, x) + i)"
   ]
  },
  {
   "cell_type": "markdown",
   "metadata": {},
   "source": [
    "### 14.1-6\n",
    "\n",
    "> Observe that whenever we reference the size attribute of a node in either OS-SELECT or OS-RANK, we use it only to compute a rank. Accordingly, suppose\n",
    "we store in each node its rank in the subtree of which it is the root. Show how to maintain this information during insertion and deletion. (Remember that these two operations can cause rotations.)"
   ]
  },
  {
   "cell_type": "markdown",
   "metadata": {},
   "source": [
    "Tree walk and change the rank by comparing the key of the node with that of the inserted node. $O(n)$"
   ]
  },
  {
   "cell_type": "markdown",
   "metadata": {},
   "source": [
    "### 14.1-7\n",
    "\n",
    "> Show how to use an order-statistic tree to count the number of inversions (see Problem 2-4) in an array of size $n$ in time $O(n \\lg n)$."
   ]
  },
  {
   "cell_type": "markdown",
   "metadata": {},
   "source": [
    "After the insertion of a node, the number of tree nodes subtract the rank of the inserted node is the number of inversions of the current node."
   ]
  },
  {
   "cell_type": "markdown",
   "metadata": {},
   "source": [
    "### 14.1-8 $\\star$\n",
    "\n",
    "> Consider $n$ chords on a circle, each defined by its endpoints. Describe an $O(n \\lg n)$- time algorithm to determine the number of pairs of chords that intersect inside the circle. (For example, if the $n$ chords are all diameters that meet at the center, then the correct answer is $\\binom{n}{2}$. Assume that no two chords share an endpoint."
   ]
  },
  {
   "cell_type": "markdown",
   "metadata": {},
   "source": [
    "Sort the vertices in clock-wise order, and assign a unique value to each vertex. For each chord its two vertices are $u_i$, $v_i$ and $u_i < v_i$. Add the vertices one by one in clock-wise order, if we meet a $u_i$, we add it to the order-statistic tree, if we meet a $v_i$, we calculate how many nodes are larger than $u_i$ (which is the number of intersects with chord $i$), and remove $u_i$."
   ]
  }
 ],
 "metadata": {
  "kernelspec": {
   "display_name": "Python 3",
   "language": "python",
   "name": "python3"
  },
  "language_info": {
   "codemirror_mode": {
    "name": "ipython",
    "version": 3
   },
   "file_extension": ".py",
   "mimetype": "text/x-python",
   "name": "python",
   "nbconvert_exporter": "python",
   "pygments_lexer": "ipython3",
   "version": "3.6.3"
  }
 },
 "nbformat": 4,
 "nbformat_minor": 2
}
