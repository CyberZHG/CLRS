{
 "cells": [
  {
   "cell_type": "markdown",
   "metadata": {},
   "source": [
    "## 14.3 Interval trees"
   ]
  },
  {
   "cell_type": "markdown",
   "metadata": {},
   "source": [
    "### 14.3-1\n",
    "\n",
    "> Write pseudocode for LEFT-ROTATE that operates on nodes in an interval tree and updates the $max$ attributes in $O(1)$ time."
   ]
  },
  {
   "cell_type": "markdown",
   "metadata": {},
   "source": [
    "$y.max = x.max$\n",
    "\n",
    "$x.max = \\max(x.int.high, x.left.max, x.right.max)$"
   ]
  },
  {
   "cell_type": "markdown",
   "metadata": {},
   "source": [
    "### 14.3-2\n",
    "\n",
    "> Rewrite the code for INTERVAL-SEARCH so that it works properly when all intervals are open."
   ]
  },
  {
   "cell_type": "markdown",
   "metadata": {},
   "source": [
    "```\n",
    "INTERVAL-SEARCH(T, i)\n",
    "1 x = T.root\n",
    "2 while x != T.nil and (i.high <= x.int.left or x.int.right <= i.low)\n",
    "3     if x.left != T.nil and x.left.max > i.low\n",
    "4         x = x.left\n",
    "5     else x = x.right\n",
    "6 return x\n",
    "```"
   ]
  },
  {
   "cell_type": "markdown",
   "metadata": {},
   "source": [
    "### 14.3-3\n",
    "\n",
    "> Describe an efficient algorithm that, given an interval $i$ , returns an interval overlapping $i$ that has the minimum low endpoint, or $T.nil$ if no such interval exists."
   ]
  },
  {
   "cell_type": "markdown",
   "metadata": {},
   "source": [
    "```\n",
    "MIN-INTERVAL-SEARCH(T, i)\n",
    " 1 x = T.root\n",
    " 2 ret = T.nil\n",
    " 3 while x != T.nil:\n",
    " 4     if not (i.high <= x.int.left or x.int.right <= i.low)\n",
    " 5         if ret == T.nil or ret.right > x.int.right\n",
    " 6             ret = x\n",
    " 7     if x.left != T.nil and x.left.max > i.low\n",
    " 8         x = x.left\n",
    " 9     else x = x.right\n",
    "10 return ret\n",
    "```"
   ]
  },
  {
   "cell_type": "markdown",
   "metadata": {},
   "source": [
    "### 14.3-4\n",
    "\n",
    "> Given an interval tree $T$ and an interval $i$, describe how to list all intervals in $T$ that overlap $i$ in $O(\\min(n, k \\lg n))$ time, where $k$ is the number of intervals in the output list."
   ]
  },
  {
   "cell_type": "markdown",
   "metadata": {},
   "source": [
    "```\n",
    "INTERVALS-SEARCH(T, x, i)\n",
    " 1 lst = []\n",
    " 2 if i overlaps x.int\n",
    " 3     lst.append(x)\n",
    " 4 if x.left != T.nil and x.left.max > i.low\n",
    " 5     lst += INTERVALS-SEARCH(T, x.left, i)\n",
    " 6 if x.right != T.nil and x.int.low <= i.high and x.right.max >= i.low\n",
    " 7     lst += INTERVALS-SEARCH(T, x.right, i)\n",
    " 8 return lst\n",
    "```"
   ]
  },
  {
   "cell_type": "markdown",
   "metadata": {},
   "source": [
    "### 14.3-5\n",
    "\n",
    "> Suggest modifications to the interval-tree procedures to support the new operation INTERVAL-SEARCH-EXACTLY$(T, i)$, where $T$ is an interval tree and $i$ is an interval. The operation should return a pointer to a node $x$ in $T$ such that $x.int.low = i.low$ and $x.int.high = i.high$, or $T.nil$ if $T$ contains no such node. All operations, including INTERVAL-SEARCH-EXACTLY, should run in $O(\\lg n)$ time on an $n$-node interval tree."
   ]
  },
  {
   "cell_type": "markdown",
   "metadata": {},
   "source": [
    "Search for nodes which has exactly the same low value."
   ]
  },
  {
   "cell_type": "markdown",
   "metadata": {},
   "source": [
    "### 14.3-6\n",
    "\n",
    "> Show how to maintain a dynamic set $Q$ of numbers that supports the operation MIN-GAP, which gives the magnitude of the difference of the two closest numbers in $Q$. For example, if $Q = \\{1, 5, 9, 15, 18, 22\\}$, then MIN-GAP$(Q)$ returns $18 - 15 = 3$, since $15$ and $18$ are the two closest numbers in $Q$. Make the operations INSERT, DELETE, SEARCH, and MIN-GAP as efficient as possible, and analyze their running times."
   ]
  },
  {
   "cell_type": "markdown",
   "metadata": {},
   "source": [
    "Based on Exercise 14.2-1, we can maintain SUCCESSOR in $O(1)$ time, each time after updating the SUCCESSOR, we can update $x.gap$ to $x.successor.key - x.key$. And based on Exercise 14.2-1 we can also maintain the minimum $gap$ of the subtree in $O(1)$ time."
   ]
  },
  {
   "cell_type": "markdown",
   "metadata": {},
   "source": [
    "### 14.3-7 $\\star$\n",
    "\n",
    "> VLSI databases commonly represent an integrated circuit as a list of rectangles. Assume that each rectangle is rectilinearly oriented (sides parallel to the $x$- and $y$-axes), so that we represent a rectangle by its minimum and maximum $x$ and $y$-coordinates. Give an $O(n \\lg n)$-time algorithm to decide whether or not a set of $n$ rectangles so represented contains two rectangles that overlap. Your algorithm need not report all intersecting pairs, but it must report that an overlap exists if one rectangle entirely covers another, even if the boundary lines do not intersect."
   ]
  },
  {
   "cell_type": "markdown",
   "metadata": {},
   "source": [
    "Suppose we represent a rectangle by $(x_{min}, x_{max}, y_{min}, y_{max})$.\n",
    "\n",
    "Sort the $x_{min}$s and $x_{max}$s in ascending order. From left to right, if we meet a $x_{min}$, before we add $(y_{min}, y_{max})$ to the interval tree, if the interval $(y_{min}, y_{max})$ is overlapped with some node in the interval tree, then there is an overlap of rectangles. And when we meet a $x_{max}$, we remove $(y_{min}, y_{max})$ from the interval tree."
   ]
  }
 ],
 "metadata": {
  "kernelspec": {
   "display_name": "Python 3",
   "language": "python",
   "name": "python3"
  },
  "language_info": {
   "codemirror_mode": {
    "name": "ipython",
    "version": 3
   },
   "file_extension": ".py",
   "mimetype": "text/x-python",
   "name": "python",
   "nbconvert_exporter": "python",
   "pygments_lexer": "ipython3",
   "version": "3.6.3"
  }
 },
 "nbformat": 4,
 "nbformat_minor": 2
}
