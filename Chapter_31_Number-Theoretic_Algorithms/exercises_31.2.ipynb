{
 "cells": [
  {
   "cell_type": "markdown",
   "metadata": {},
   "source": [
    "## 31.2 Greatest common divisor"
   ]
  },
  {
   "cell_type": "markdown",
   "metadata": {},
   "source": [
    "### 31.2-1\n",
    "\n",
    "> Prove that equations (31.11) and (31.12) imply equation (31.13)."
   ]
  },
  {
   "cell_type": "markdown",
   "metadata": {},
   "source": [
    "### 31.2-2\n",
    "\n",
    " > Compute the values $(d, x, y)$ that the call EXTENDED-EUCLID$(899, 493)$ returns."
   ]
  },
  {
   "cell_type": "markdown",
   "metadata": {},
   "source": [
    "$(29, -6, 11)$."
   ]
  },
  {
   "cell_type": "markdown",
   "metadata": {},
   "source": [
    "### 31.2-3\n",
    "\n",
    "> Prove that for all integers $a$, $k$, and $n$,\n",
    "\n",
    "> $\\text{gcd}(a, n) = \\text{gcd}(a + kn, n)$."
   ]
  },
  {
   "cell_type": "markdown",
   "metadata": {},
   "source": [
    "* $\\text{gcd}(a, n) ~|~ \\text{gcd}(a + kn, n)$\n",
    "\n",
    "Let $d = \\text{gcd}(a, n)$, then $d ~|~ a$ and $d ~|~ n$. Since $(a + kn) ~\\text{mod}~ d = a ~\\text{mod}~ d + k \\cdot (n ~\\text{mod}~ d) = 0$ and $d ~|~ n$, then $d ~|~ \\text{gcd}(a + kn, n)$, $\\text{gcd}(a, n) ~|~ \\text{gcd}(a + kn, n)$.\n",
    "\n",
    "* $\\text{gcd}(a + kn, n) ~|~ \\text{gcd}(a, n)$\n",
    "\n",
    "Let $d = \\text{gcd}(a + kn, n)$, then $d ~|~ n$ and $d ~|~ (a + kn)$. Since $(a + kn) ~\\text{mod}~ d = a ~\\text{mod}~ d + k \\cdot (n ~\\text{mod}~ d) = a ~\\text{mod}~ d = 0$, then $d ~|~ a$. Since $d ~|~ a$ and $d ~|~ n$, then $d ~|~ \\text{gcd}(a, n)$,  $\\text{gcd}(a + kn, n) ~|~ \\text{gcd}(a, n)$.\n",
    "\n",
    "Since $\\text{gcd}(a, n) ~|~ \\text{gcd}(a + kn, n)$ and $\\text{gcd}(a + kn, n) ~|~ \\text{gcd}(a, n)$, then $\\text{gcd}(a, n) = \\text{gcd}(a + kn, n)$."
   ]
  },
  {
   "cell_type": "markdown",
   "metadata": {},
   "source": [
    "### 31.2-4\n",
    "\n",
    "> Rewrite EUCLID in an iterative form that uses only a constant amount of memory (that is, stores only a constant number of integer values)."
   ]
  },
  {
   "cell_type": "code",
   "execution_count": 1,
   "metadata": {},
   "outputs": [],
   "source": [
    "def euclid(a, b):\n",
    "    while b != 0:\n",
    "        a, b = b, a % b\n",
    "    return a"
   ]
  },
  {
   "cell_type": "markdown",
   "metadata": {},
   "source": [
    "### 31.2-5\n",
    "\n",
    "> If $a > b \\ge 0$, show that the call EUCLID$(a, b)$ makes at most $1 + \\log_\\phi b$ recursive calls. Improve this bound to $1 + \\log_\\phi(b / \\text{gcd}(a, b))$."
   ]
  },
  {
   "cell_type": "markdown",
   "metadata": {},
   "source": [
    "$b \\ge F_{k+1} \\approx \\phi^{k+1} / \\sqrt{5}$\n",
    "\n",
    "$k + 1 < \\log_\\phi \\sqrt{5} + \\log_\\phi b \\approx 1.67 + \\log_\\phi b$\n",
    "\n",
    "$k < 0.67 + \\log_\\phi b < 1 + \\log_\\phi b$.\n",
    "\n",
    "Since $d \\cdot a ~\\text{mod}~ d \\cdot b = d \\cdot (a ~\\text{mod}~ b)$, $\\text{gcd}(d \\cdot a, d \\cdot b)$ has the same number of recursive calls with $\\text{gcd}(a, b)$, therefore we could let $b' = b / \\text{gcd}(a, b)$, the inequality $k < 1 + \\log_\\phi(b') = 1 + \\log_\\phi(b / \\text{gcd}(a, b))$. will holds."
   ]
  },
  {
   "cell_type": "markdown",
   "metadata": {},
   "source": [
    "## 31.2-6\n",
    "\n",
    "> What does EXTENDED-EUCLID$(F_{k+1}, F_k)$ return? Prove your answer correct."
   ]
  },
  {
   "cell_type": "markdown",
   "metadata": {},
   "source": [
    "* If $k$ is odd, then $(1, -F_{k-2}, F_{k-1})$.\n",
    "* If $k$ is even, then $(1, F_{k-2}, -F_{k-1})$."
   ]
  },
  {
   "cell_type": "markdown",
   "metadata": {},
   "source": [
    "### 31.2-7\n",
    "\n",
    "> Define the $\\text{gcd}$ function for more than two arguments by the recursive equation $\\text{gcd}(a_0, a_1, \\cdots, a_n) = \\text{gcd}(a_0, \\text{gcd}(a_1, a_2, \\cdots, a_n))$. Show that the $\\text{gcd}$ function returns the same answer independent of the order in which its arguments are specified. Also show how to find integers $x_0, x_1, \\cdots, x_n$ such that $\\text{gcd}(a_0, a_1, \\dots, a_n) = a_0 x_0 + a_1 x_1 + \\cdots + a_n x_n$. Show that the number of divisions performed by your algorithm is $O(n + \\lg (max \\{a_0, a_1, \\cdots, a_n \\}))$."
   ]
  },
  {
   "cell_type": "markdown",
   "metadata": {},
   "source": [
    "Suppose $\\text{gcd}(a_0, \\text{gcd}(a_1, a_2, \\cdots, a_n))  = a_0 \\cdot x + \\text{gcd}(a_1, a_2, \\cdots, a_n) \\cdot y$ and $\\text{gcd}(a_1, \\text{gcd}(a_2, a_3, \\cdots, a_n))  = a_1 \\cdot x' + \\text{gcd}(a_2, a_3, \\cdots, a_n) \\cdot y'$, then the coefficient of $a_1$ is $y \\cdot x'$."
   ]
  },
  {
   "cell_type": "code",
   "execution_count": 2,
   "metadata": {},
   "outputs": [],
   "source": [
    "def extended_euclid(a, b):\n",
    "    if b == 0:\n",
    "        return (a, 1, 0)\n",
    "    d, x, y = extended_euclid(b, a % b)\n",
    "    return (d, y, x - (a // b) * y)\n",
    "\n",
    "\n",
    "def extended_eculid_multi(a):\n",
    "    if len(a) == 1:\n",
    "        return (a[0], [1])\n",
    "    g = a[-1]\n",
    "    xs = [1] * len(a)\n",
    "    ys = [0] * len(a)\n",
    "    for i in xrange(len(a) - 2, -1, -1):\n",
    "        g, xs[i], ys[i + 1] = extended_euclid(a[i], g)\n",
    "    m = 1\n",
    "    for i in xrange(1, len(a)):\n",
    "        m *= ys[i]\n",
    "        xs[i] *= m\n",
    "    return (g, xs)"
   ]
  },
  {
   "cell_type": "markdown",
   "metadata": {},
   "source": [
    "### 31.2-8\n",
    "\n",
    "> Define $\\text{lcm}(a_1, a_2, \\dots, a_n)$ to be the __*least common multiple*__ of the $n$ integers $a_1, a_2, \\dots, a_n$, that is, the smallest nonnegative integer that is a multiple of each $a_i$. Show how to compute $\\text{lcm}(a_1, a_2, \\dots, a_n)$ efficiently using the (two-argument) $\\text{gcd}$ operation as a subroutine."
   ]
  },
  {
   "cell_type": "code",
   "execution_count": 3,
   "metadata": {},
   "outputs": [],
   "source": [
    "def gcd(a, b):\n",
    "    if b == 0:\n",
    "        return a\n",
    "    return gcd(b, a % b)\n",
    "\n",
    "\n",
    "def lcm(a, b):\n",
    "    return a / gcd(a, b) * b\n",
    "\n",
    "\n",
    "def lcm_multi(lst):\n",
    "    l = lst[0]\n",
    "    for i in xrange(1, len(lst)):\n",
    "        l = lcm(l, lst[i])\n",
    "    return l"
   ]
  },
  {
   "cell_type": "markdown",
   "metadata": {},
   "source": [
    "### 31.2-9\n",
    "\n",
    "> Prove that $n_1$, $n_2$, $n_3$, and $n_4$ are pairwise relatively prime if and only if\n",
    "> \n",
    "> $\\text{gcd}(n_1n_2,n_3n_4) = \\text{gcd}(n_1n_3, n_2n_4) = 1$\n",
    "> \n",
    "> More generally, show that $n_1, n_2, \\dots, n_k$ are pairwise relatively prime if and only if a set of $\\lceil \\lg k \\rceil$ pairs of numbers derived from the $n_i$ are relatively prime."
   ]
  },
  {
   "cell_type": "markdown",
   "metadata": {},
   "source": [
    "Suppose $n_1 n_2 x + n_3 n_4 y = 1$, then $n_1 (n_2 x) + n_3 (n_4 y) = 1$, thus $n_1$ and $n_3$ are relatively prime, $n_1$ and $n_4$, $n_2$ and $n_3$, $n_2$ and $n_4$ are the all relatively prime. And since $\\text{gcd}(n_1n_3, n_2n_4) = 1$, all the pairs are relatively prime.\n",
    "\n",
    "General: in the first round, divide the elements into two sets with equal number of elements, calculate the products of the two set separately, if the two products are relatively prime, then the element in one set is pairwise relatively prime with the element in the other set. In the next iterations, for each set, we divide the elements into two subsets, suppose we have subsets $\\{ (s_1, s_2), (s_3, s_4), \\dots \\}$, then we calculate the products of $\\{s_1, s_3, \\dots\\}$ and $\\{s_2, s_4, \\dots\\}$, if the two products are relatively prime, then all the pairs of subset are pairwise relatively prime similar to the first round. In each iteration, the number of elements in a subset is half of the original set, thus there are $\\lceil \\lg k \\rceil$ pairs of products.\n",
    "\n",
    "To choose the subsets efficiently, in the $k$th iteration, we could divide the numbers based on the value of the index's $k$th bit."
   ]
  }
 ],
 "metadata": {
  "kernelspec": {
   "display_name": "Python 3",
   "language": "python",
   "name": "python3"
  },
  "language_info": {
   "codemirror_mode": {
    "name": "ipython",
    "version": 3
   },
   "file_extension": ".py",
   "mimetype": "text/x-python",
   "name": "python",
   "nbconvert_exporter": "python",
   "pygments_lexer": "ipython3",
   "version": "3.6.3"
  }
 },
 "nbformat": 4,
 "nbformat_minor": 2
}
