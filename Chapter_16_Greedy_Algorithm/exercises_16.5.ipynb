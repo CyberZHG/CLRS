{
 "cells": [
  {
   "cell_type": "markdown",
   "metadata": {},
   "source": [
    "## 16.5 A task-scheduling problem as a matroid"
   ]
  },
  {
   "cell_type": "markdown",
   "metadata": {},
   "source": [
    "### 16.5-1\n",
    "\n",
    "> Solve the instance of the scheduling problem given in Figure 16.7, but with each penalty $w_i$ replaced by $80 - wi$."
   ]
  },
  {
   "cell_type": "markdown",
   "metadata": {},
   "source": [
    "| $a_i$ |  1 |  2 |  3 |  4 |  5 |  6 |  7 |\n",
    "|:--:|:--:|:--:|:--:|:--:|:--:|:--:|:--:|\n",
    "| $d_i$ |  4 |  2 |  4 |  3 |  1 |  4 |  6 |\n",
    "| $w_i$ | 10 | 20 | 30 | 40 | 50 | 60 | 70 |\n",
    "\n",
    "$\\langle a_5, a_4, a_3, a_6, a_7 \\rangle$, $w_1 + w_2 = 30$."
   ]
  },
  {
   "cell_type": "markdown",
   "metadata": {},
   "source": [
    "### 16.5-2\n",
    "\n",
    "> Show how to use property 2 of Lemma 16.12 to determine in time $O(|A|)$ whether or not a given set $A$ of tasks is independent."
   ]
  },
  {
   "cell_type": "markdown",
   "metadata": {},
   "source": [
    "Inserting by deadline."
   ]
  }
 ],
 "metadata": {
  "kernelspec": {
   "display_name": "Python 3",
   "language": "python",
   "name": "python3"
  },
  "language_info": {
   "codemirror_mode": {
    "name": "ipython",
    "version": 3
   },
   "file_extension": ".py",
   "mimetype": "text/x-python",
   "name": "python",
   "nbconvert_exporter": "python",
   "pygments_lexer": "ipython3",
   "version": "3.6.3"
  }
 },
 "nbformat": 4,
 "nbformat_minor": 2
}
