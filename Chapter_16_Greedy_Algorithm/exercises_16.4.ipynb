{
 "cells": [
  {
   "cell_type": "markdown",
   "metadata": {},
   "source": [
    "## 16.4 Matroids and greedy methods"
   ]
  },
  {
   "cell_type": "markdown",
   "metadata": {},
   "source": [
    "### 16.4-1\n",
    "\n",
    "> Show that $(S, I_k)$ is a matroid, where $S$ is any finite set and $I_k$ is the set of all subsets of $S$ of size at most $k$, where $k \\le |S|$."
   ]
  },
  {
   "cell_type": "markdown",
   "metadata": {},
   "source": [
    "### 16.4-2 $\\star$\n",
    "\n",
    "> Given an $m \\times n$ matrix $T$ over some field (such as the reals), show that $(S, I)$ is a matroid, where $S$ is the set of columns of $T$ and $A \\in I$ if and only if the columns in $A$ are linearly independent."
   ]
  },
  {
   "cell_type": "markdown",
   "metadata": {},
   "source": [
    "### 16.4-3 $\\star$\n",
    "\n",
    "> Show that if $(S, I)$ is a matroid, then $(S, I')$ is a matroid, where\n",
    "\n",
    "> $I' = \\{ A': S - A'$ contains some maximal $A \\in I \\}$.\n",
    "\n",
    "> That is, the maximal independent sets of $(S, I')$ are just the complements of the maximal independent sets of $(S, I)$."
   ]
  },
  {
   "cell_type": "markdown",
   "metadata": {},
   "source": [
    "### 16.4-4 $\\star$\n",
    "\n",
    "> Let $S$ be a finite set and let $S_1, S_2, \\dots, S_k$ be a partition of $S$ into nonempty disjoint subsets. Define the structure $(S, I)$ by the condition that $I = \\{ A : | A \\cap S_i | \\le 1$ for $i = 1, 2, \\dots, k \\}$. Show that $(S, I)$ is a matroid. That is, the set of all sets $A$ that contain at most one member of each subset in the partition determines the independent sets of a matroid."
   ]
  },
  {
   "cell_type": "markdown",
   "metadata": {},
   "source": [
    "### 16.4-5\n",
    "\n",
    "> Show how to transform the weight function of a weighted matroid problem, where the desired optimal solution is a _minimum-weight_ maximal independent subset, to make it a standard weighted-matroid problem. Argue carefully that your transformation is correct."
   ]
  }
 ],
 "metadata": {
  "kernelspec": {
   "display_name": "Python 3",
   "language": "python",
   "name": "python3"
  },
  "language_info": {
   "codemirror_mode": {
    "name": "ipython",
    "version": 3
   },
   "file_extension": ".py",
   "mimetype": "text/x-python",
   "name": "python",
   "nbconvert_exporter": "python",
   "pygments_lexer": "ipython3",
   "version": "3.6.3"
  }
 },
 "nbformat": 4,
 "nbformat_minor": 2
}
